{
  "nbformat": 4,
  "nbformat_minor": 0,
  "metadata": {
    "colab": {
      "provenance": [],
      "authorship_tag": "ABX9TyPCCWDa21KNZab94F1mJ/hs",
      "include_colab_link": true
    },
    "kernelspec": {
      "name": "python3",
      "display_name": "Python 3"
    },
    "language_info": {
      "name": "python"
    }
  },
  "cells": [
    {
      "cell_type": "markdown",
      "metadata": {
        "id": "view-in-github",
        "colab_type": "text"
      },
      "source": [
        "<a href=\"https://colab.research.google.com/github/alexandrosnic/fastai_course/blob/main/MNIST_with_fastai.ipynb\" target=\"_parent\"><img src=\"https://colab.research.google.com/assets/colab-badge.svg\" alt=\"Open In Colab\"/></a>"
      ]
    },
    {
      "cell_type": "code",
      "execution_count": 113,
      "metadata": {
        "id": "RidheSfEvA7x"
      },
      "outputs": [],
      "source": [
        "#hide\n",
        "! [ -e /content ] && pip install -Uqq fastbook\n",
        "import fastbook\n",
        "fastbook.setup_book()"
      ]
    },
    {
      "cell_type": "code",
      "source": [
        "#hide\n",
        "from fastai.vision.all import *\n",
        "from fastbook import *\n",
        "\n",
        "matplotlib.rc('image', cmap='Greys')"
      ],
      "metadata": {
        "id": "4_5NFoqVvCeu"
      },
      "execution_count": 114,
      "outputs": []
    },
    {
      "cell_type": "code",
      "source": [
        "path = untar_data(URLs.MNIST_SAMPLE)"
      ],
      "metadata": {
        "id": "2gbcxdtCtb2w"
      },
      "execution_count": 115,
      "outputs": []
    },
    {
      "cell_type": "code",
      "source": [
        "#hide\n",
        "Path.BASE_PATH = path"
      ],
      "metadata": {
        "id": "tcSP-PVctnpF"
      },
      "execution_count": 116,
      "outputs": []
    },
    {
      "cell_type": "code",
      "source": [
        "path.ls()"
      ],
      "metadata": {
        "colab": {
          "base_uri": "https://localhost:8080/"
        },
        "id": "VECg-McatqAM",
        "outputId": "15fd30c2-1aac-417d-9055-00ff068e57de"
      },
      "execution_count": 117,
      "outputs": [
        {
          "output_type": "execute_result",
          "data": {
            "text/plain": [
              "(#3) [Path('labels.csv'),Path('train'),Path('valid')]"
            ]
          },
          "metadata": {},
          "execution_count": 117
        }
      ]
    },
    {
      "cell_type": "code",
      "source": [
        "(path/'train').ls()"
      ],
      "metadata": {
        "colab": {
          "base_uri": "https://localhost:8080/"
        },
        "id": "N75GYQ4QtxBU",
        "outputId": "78e6c056-d1dd-49a2-8a7d-a7e805679d5d"
      },
      "execution_count": 118,
      "outputs": [
        {
          "output_type": "execute_result",
          "data": {
            "text/plain": [
              "(#2) [Path('train/3'),Path('train/7')]"
            ]
          },
          "metadata": {},
          "execution_count": 118
        }
      ]
    },
    {
      "cell_type": "code",
      "source": [
        "threes = (path/'train'/'3').ls().sorted()\n",
        "sevens = (path/'train'/'7').ls().sorted()\n",
        "threes"
      ],
      "metadata": {
        "colab": {
          "base_uri": "https://localhost:8080/"
        },
        "id": "LBM0kxg7t0_z",
        "outputId": "b49d5f25-5255-4651-b37d-4a505a886743"
      },
      "execution_count": 119,
      "outputs": [
        {
          "output_type": "execute_result",
          "data": {
            "text/plain": [
              "(#6131) [Path('train/3/10.png'),Path('train/3/10000.png'),Path('train/3/10011.png'),Path('train/3/10031.png'),Path('train/3/10034.png'),Path('train/3/10042.png'),Path('train/3/10052.png'),Path('train/3/1007.png'),Path('train/3/10074.png'),Path('train/3/10091.png')...]"
            ]
          },
          "metadata": {},
          "execution_count": 119
        }
      ]
    },
    {
      "cell_type": "code",
      "source": [
        "im3_path = threes[1]\n",
        "im3 = Image.open(im3_path)\n",
        "im3"
      ],
      "metadata": {
        "colab": {
          "base_uri": "https://localhost:8080/",
          "height": 45
        },
        "id": "NRn9yTJ7t4Sr",
        "outputId": "cc017887-245f-4980-f44b-92b9dcdbafc0"
      },
      "execution_count": 120,
      "outputs": [
        {
          "output_type": "execute_result",
          "data": {
            "text/plain": [
              "<PIL.PngImagePlugin.PngImageFile image mode=L size=28x28>"
            ],
            "image/png": "[encoded data removed]"
          },
          "metadata": {},
          "execution_count": 120
        }
      ]
    },
    {
      "cell_type": "code",
      "source": [
        "array(im3)[4:10,4:10]"
      ],
      "metadata": {
        "colab": {
          "base_uri": "https://localhost:8080/"
        },
        "id": "OaefgMlXt7UO",
        "outputId": "4f491aec-5ef7-4cf9-ce4c-df0354725353"
      },
      "execution_count": 121,
      "outputs": [
        {
          "output_type": "execute_result",
          "data": {
            "text/plain": [
              "array([[  0,   0,   0,   0,   0,   0],\n",
              "       [  0,   0,   0,   0,   0,  29],\n",
              "       [  0,   0,   0,  48, 166, 224],\n",
              "       [  0,  93, 244, 249, 253, 187],\n",
              "       [  0, 107, 253, 253, 230,  48],\n",
              "       [  0,   3,  20,  20,  15,   0]], dtype=uint8)"
            ]
          },
          "metadata": {},
          "execution_count": 121
        }
      ]
    },
    {
      "cell_type": "code",
      "source": [
        "tensor(im3)[4:10,4:10]"
      ],
      "metadata": {
        "colab": {
          "base_uri": "https://localhost:8080/"
        },
        "id": "Ik5ojDQmzcTb",
        "outputId": "d7a389d9-a58b-4f62-8b0c-0dd8aa20a71f"
      },
      "execution_count": 122,
      "outputs": [
        {
          "output_type": "execute_result",
          "data": {
            "text/plain": [
              "tensor([[  0,   0,   0,   0,   0,   0],\n",
              "        [  0,   0,   0,   0,   0,  29],\n",
              "        [  0,   0,   0,  48, 166, 224],\n",
              "        [  0,  93, 244, 249, 253, 187],\n",
              "        [  0, 107, 253, 253, 230,  48],\n",
              "        [  0,   3,  20,  20,  15,   0]], dtype=torch.uint8)"
            ]
          },
          "metadata": {},
          "execution_count": 122
        }
      ]
    },
    {
      "cell_type": "code",
      "source": [
        "#hide_output\n",
        "im3_t = tensor(im3)\n",
        "df = pd.DataFrame(im3_t[4:15,4:22])\n",
        "df.style.set_properties(**{'font-size':'6pt'}).background_gradient('Greys')"
      ],
      "metadata": {
        "colab": {
          "base_uri": "https://localhost:8080/",
          "height": 394
        },
        "id": "cDzysBTUzegJ",
        "outputId": "ea91aea8-4dd8-415b-f6d0-aa3e6ac26d2a"
      },
      "execution_count": 123,
      "outputs": [
        {
          "output_type": "execute_result",
          "data": {
            "text/plain": [
              "<pandas.io.formats.style.Styler at 0x7fac8038c400>"
            ],
            "text/html": [
              "<style type=\"text/css\">\n",
              "#T_0d186_row0_col0, #T_0d186_row0_col1, #T_0d186_row0_col2, #T_0d186_row0_col3, #T_0d186_row0_col4, #T_0d186_row0_col5, #T_0d186_row0_col6, #T_0d186_row0_col7, #T_0d186_row0_col8, #T_0d186_row0_col9, #T_0d186_row0_col10, #T_0d186_row0_col11, #T_0d186_row0_col12, #T_0d186_row0_col13, #T_0d186_row0_col14, #T_0d186_row0_col15, #T_0d186_row0_col16, #T_0d186_row0_col17, #T_0d186_row1_col0, #T_0d186_row1_col1, #T_0d186_row1_col2, #T_0d186_row1_col3, #T_0d186_row1_col4, #T_0d186_row1_col15, #T_0d186_row1_col16, #T_0d186_row1_col17, #T_0d186_row2_col0, #T_0d186_row2_col1, #T_0d186_row2_col2, #T_0d186_row2_col15, #T_0d186_row2_col16, #T_0d186_row2_col17, #T_0d186_row3_col0, #T_0d186_row3_col15, #T_0d186_row3_col16, #T_0d186_row3_col17, #T_0d186_row4_col0, #T_0d186_row4_col6, #T_0d186_row4_col7, #T_0d186_row4_col8, #T_0d186_row4_col9, #T_0d186_row4_col10, #T_0d186_row4_col15, #T_0d186_row4_col16, #T_0d186_row4_col17, #T_0d186_row5_col0, #T_0d186_row5_col5, #T_0d186_row5_col6, #T_0d186_row5_col7, #T_0d186_row5_col8, #T_0d186_row5_col9, #T_0d186_row5_col15, #T_0d186_row5_col16, #T_0d186_row5_col17, #T_0d186_row6_col0, #T_0d186_row6_col1, #T_0d186_row6_col2, #T_0d186_row6_col3, #T_0d186_row6_col4, #T_0d186_row6_col5, #T_0d186_row6_col6, #T_0d186_row6_col7, #T_0d186_row6_col8, #T_0d186_row6_col9, #T_0d186_row6_col14, #T_0d186_row6_col15, #T_0d186_row6_col16, #T_0d186_row6_col17, #T_0d186_row7_col0, #T_0d186_row7_col1, #T_0d186_row7_col2, #T_0d186_row7_col3, #T_0d186_row7_col4, #T_0d186_row7_col5, #T_0d186_row7_col6, #T_0d186_row7_col13, #T_0d186_row7_col14, #T_0d186_row7_col15, #T_0d186_row7_col16, #T_0d186_row7_col17, #T_0d186_row8_col0, #T_0d186_row8_col1, #T_0d186_row8_col2, #T_0d186_row8_col3, #T_0d186_row8_col4, #T_0d186_row8_col13, #T_0d186_row8_col14, #T_0d186_row8_col15, #T_0d186_row8_col16, #T_0d186_row8_col17, #T_0d186_row9_col0, #T_0d186_row9_col1, #T_0d186_row9_col2, #T_0d186_row9_col3, #T_0d186_row9_col4, #T_0d186_row9_col16, #T_0d186_row9_col17, #T_0d186_row10_col0, #T_0d186_row10_col1, #T_0d186_row10_col2, #T_0d186_row10_col3, #T_0d186_row10_col4, #T_0d186_row10_col5, #T_0d186_row10_col6, #T_0d186_row10_col17 {\n",
              "  font-size: 6pt;\n",
              "  background-color: #ffffff;\n",
              "  color: #000000;\n",
              "}\n",
              "#T_0d186_row1_col5 {\n",
              "  font-size: 6pt;\n",
              "  background-color: #efefef;\n",
              "  color: #000000;\n",
              "}\n",
              "#T_0d186_row1_col6, #T_0d186_row1_col13 {\n",
              "  font-size: 6pt;\n",
              "  background-color: #7c7c7c;\n",
              "  color: #f1f1f1;\n",
              "}\n",
              "#T_0d186_row1_col7 {\n",
              "  font-size: 6pt;\n",
              "  background-color: #4a4a4a;\n",
              "  color: #f1f1f1;\n",
              "}\n",
              "#T_0d186_row1_col8, #T_0d186_row1_col9, #T_0d186_row1_col10, #T_0d186_row2_col5, #T_0d186_row2_col6, #T_0d186_row2_col7, #T_0d186_row2_col11, #T_0d186_row2_col12, #T_0d186_row2_col13, #T_0d186_row3_col4, #T_0d186_row3_col12, #T_0d186_row3_col13, #T_0d186_row4_col1, #T_0d186_row4_col2, #T_0d186_row4_col3, #T_0d186_row4_col12, #T_0d186_row4_col13, #T_0d186_row5_col12, #T_0d186_row6_col11, #T_0d186_row9_col11, #T_0d186_row10_col11, #T_0d186_row10_col12, #T_0d186_row10_col13, #T_0d186_row10_col14, #T_0d186_row10_col15, #T_0d186_row10_col16 {\n",
              "  font-size: 6pt;\n",
              "  background-color: #000000;\n",
              "  color: #f1f1f1;\n",
              "}\n",
              "#T_0d186_row1_col11 {\n",
              "  font-size: 6pt;\n",
              "  background-color: #606060;\n",
              "  color: #f1f1f1;\n",
              "}\n",
              "#T_0d186_row1_col12 {\n",
              "  font-size: 6pt;\n",
              "  background-color: #4d4d4d;\n",
              "  color: #f1f1f1;\n",
              "}\n",
              "#T_0d186_row1_col14 {\n",
              "  font-size: 6pt;\n",
              "  background-color: #bbbbbb;\n",
              "  color: #000000;\n",
              "}\n",
              "#T_0d186_row2_col3 {\n",
              "  font-size: 6pt;\n",
              "  background-color: #e4e4e4;\n",
              "  color: #000000;\n",
              "}\n",
              "#T_0d186_row2_col4, #T_0d186_row8_col6 {\n",
              "  font-size: 6pt;\n",
              "  background-color: #6b6b6b;\n",
              "  color: #f1f1f1;\n",
              "}\n",
              "#T_0d186_row2_col8, #T_0d186_row2_col14, #T_0d186_row3_col14 {\n",
              "  font-size: 6pt;\n",
              "  background-color: #171717;\n",
              "  color: #f1f1f1;\n",
              "}\n",
              "#T_0d186_row2_col9, #T_0d186_row3_col11 {\n",
              "  font-size: 6pt;\n",
              "  background-color: #4b4b4b;\n",
              "  color: #f1f1f1;\n",
              "}\n",
              "#T_0d186_row2_col10, #T_0d186_row7_col10, #T_0d186_row8_col8, #T_0d186_row8_col10, #T_0d186_row9_col8, #T_0d186_row9_col10 {\n",
              "  font-size: 6pt;\n",
              "  background-color: #010101;\n",
              "  color: #f1f1f1;\n",
              "}\n",
              "#T_0d186_row3_col1 {\n",
              "  font-size: 6pt;\n",
              "  background-color: #272727;\n",
              "  color: #f1f1f1;\n",
              "}\n",
              "#T_0d186_row3_col2 {\n",
              "  font-size: 6pt;\n",
              "  background-color: #0a0a0a;\n",
              "  color: #f1f1f1;\n",
              "}\n",
              "#T_0d186_row3_col3 {\n",
              "  font-size: 6pt;\n",
              "  background-color: #050505;\n",
              "  color: #f1f1f1;\n",
              "}\n",
              "#T_0d186_row3_col5 {\n",
              "  font-size: 6pt;\n",
              "  background-color: #333333;\n",
              "  color: #f1f1f1;\n",
              "}\n",
              "#T_0d186_row3_col6 {\n",
              "  font-size: 6pt;\n",
              "  background-color: #e6e6e6;\n",
              "  color: #000000;\n",
              "}\n",
              "#T_0d186_row3_col7, #T_0d186_row3_col10 {\n",
              "  font-size: 6pt;\n",
              "  background-color: #fafafa;\n",
              "  color: #000000;\n",
              "}\n",
              "#T_0d186_row3_col8 {\n",
              "  font-size: 6pt;\n",
              "  background-color: #fbfbfb;\n",
              "  color: #000000;\n",
              "}\n",
              "#T_0d186_row3_col9 {\n",
              "  font-size: 6pt;\n",
              "  background-color: #fdfdfd;\n",
              "  color: #000000;\n",
              "}\n",
              "#T_0d186_row4_col4 {\n",
              "  font-size: 6pt;\n",
              "  background-color: #1b1b1b;\n",
              "  color: #f1f1f1;\n",
              "}\n",
              "#T_0d186_row4_col5 {\n",
              "  font-size: 6pt;\n",
              "  background-color: #e0e0e0;\n",
              "  color: #000000;\n",
              "}\n",
              "#T_0d186_row4_col11 {\n",
              "  font-size: 6pt;\n",
              "  background-color: #4e4e4e;\n",
              "  color: #f1f1f1;\n",
              "}\n",
              "#T_0d186_row4_col14 {\n",
              "  font-size: 6pt;\n",
              "  background-color: #767676;\n",
              "  color: #f1f1f1;\n",
              "}\n",
              "#T_0d186_row5_col1 {\n",
              "  font-size: 6pt;\n",
              "  background-color: #fcfcfc;\n",
              "  color: #000000;\n",
              "}\n",
              "#T_0d186_row5_col2, #T_0d186_row5_col3 {\n",
              "  font-size: 6pt;\n",
              "  background-color: #f6f6f6;\n",
              "  color: #000000;\n",
              "}\n",
              "#T_0d186_row5_col4, #T_0d186_row7_col7 {\n",
              "  font-size: 6pt;\n",
              "  background-color: #f8f8f8;\n",
              "  color: #000000;\n",
              "}\n",
              "#T_0d186_row5_col10, #T_0d186_row10_col7 {\n",
              "  font-size: 6pt;\n",
              "  background-color: #e8e8e8;\n",
              "  color: #000000;\n",
              "}\n",
              "#T_0d186_row5_col11 {\n",
              "  font-size: 6pt;\n",
              "  background-color: #222222;\n",
              "  color: #f1f1f1;\n",
              "}\n",
              "#T_0d186_row5_col13, #T_0d186_row6_col12 {\n",
              "  font-size: 6pt;\n",
              "  background-color: #090909;\n",
              "  color: #f1f1f1;\n",
              "}\n",
              "#T_0d186_row5_col14 {\n",
              "  font-size: 6pt;\n",
              "  background-color: #d0d0d0;\n",
              "  color: #000000;\n",
              "}\n",
              "#T_0d186_row6_col10, #T_0d186_row7_col11, #T_0d186_row9_col6 {\n",
              "  font-size: 6pt;\n",
              "  background-color: #060606;\n",
              "  color: #f1f1f1;\n",
              "}\n",
              "#T_0d186_row6_col13 {\n",
              "  font-size: 6pt;\n",
              "  background-color: #979797;\n",
              "  color: #f1f1f1;\n",
              "}\n",
              "#T_0d186_row7_col8 {\n",
              "  font-size: 6pt;\n",
              "  background-color: #b6b6b6;\n",
              "  color: #000000;\n",
              "}\n",
              "#T_0d186_row7_col9 {\n",
              "  font-size: 6pt;\n",
              "  background-color: #252525;\n",
              "  color: #f1f1f1;\n",
              "}\n",
              "#T_0d186_row7_col12 {\n",
              "  font-size: 6pt;\n",
              "  background-color: #999999;\n",
              "  color: #f1f1f1;\n",
              "}\n",
              "#T_0d186_row8_col5 {\n",
              "  font-size: 6pt;\n",
              "  background-color: #f9f9f9;\n",
              "  color: #000000;\n",
              "}\n",
              "#T_0d186_row8_col7 {\n",
              "  font-size: 6pt;\n",
              "  background-color: #101010;\n",
              "  color: #f1f1f1;\n",
              "}\n",
              "#T_0d186_row8_col9, #T_0d186_row9_col9 {\n",
              "  font-size: 6pt;\n",
              "  background-color: #020202;\n",
              "  color: #f1f1f1;\n",
              "}\n",
              "#T_0d186_row8_col11 {\n",
              "  font-size: 6pt;\n",
              "  background-color: #545454;\n",
              "  color: #f1f1f1;\n",
              "}\n",
              "#T_0d186_row8_col12 {\n",
              "  font-size: 6pt;\n",
              "  background-color: #f1f1f1;\n",
              "  color: #000000;\n",
              "}\n",
              "#T_0d186_row9_col5 {\n",
              "  font-size: 6pt;\n",
              "  background-color: #f7f7f7;\n",
              "  color: #000000;\n",
              "}\n",
              "#T_0d186_row9_col7 {\n",
              "  font-size: 6pt;\n",
              "  background-color: #030303;\n",
              "  color: #f1f1f1;\n",
              "}\n",
              "#T_0d186_row9_col12 {\n",
              "  font-size: 6pt;\n",
              "  background-color: #181818;\n",
              "  color: #f1f1f1;\n",
              "}\n",
              "#T_0d186_row9_col13 {\n",
              "  font-size: 6pt;\n",
              "  background-color: #303030;\n",
              "  color: #f1f1f1;\n",
              "}\n",
              "#T_0d186_row9_col14 {\n",
              "  font-size: 6pt;\n",
              "  background-color: #a9a9a9;\n",
              "  color: #f1f1f1;\n",
              "}\n",
              "#T_0d186_row9_col15 {\n",
              "  font-size: 6pt;\n",
              "  background-color: #fefefe;\n",
              "  color: #000000;\n",
              "}\n",
              "#T_0d186_row10_col8, #T_0d186_row10_col9 {\n",
              "  font-size: 6pt;\n",
              "  background-color: #bababa;\n",
              "  color: #000000;\n",
              "}\n",
              "#T_0d186_row10_col10 {\n",
              "  font-size: 6pt;\n",
              "  background-color: #393939;\n",
              "  color: #f1f1f1;\n",
              "}\n",
              "</style>\n",
              "<table id=\"T_0d186_\" class=\"dataframe\">\n",
              "  <thead>\n",
              "    <tr>\n",
              "      <th class=\"blank level0\" >&nbsp;</th>\n",
              "      <th class=\"col_heading level0 col0\" >0</th>\n",
              "      <th class=\"col_heading level0 col1\" >1</th>\n",
              "      <th class=\"col_heading level0 col2\" >2</th>\n",
              "      <th class=\"col_heading level0 col3\" >3</th>\n",
              "      <th class=\"col_heading level0 col4\" >4</th>\n",
              "      <th class=\"col_heading level0 col5\" >5</th>\n",
              "      <th class=\"col_heading level0 col6\" >6</th>\n",
              "      <th class=\"col_heading level0 col7\" >7</th>\n",
              "      <th class=\"col_heading level0 col8\" >8</th>\n",
              "      <th class=\"col_heading level0 col9\" >9</th>\n",
              "      <th class=\"col_heading level0 col10\" >10</th>\n",
              "      <th class=\"col_heading level0 col11\" >11</th>\n",
              "      <th class=\"col_heading level0 col12\" >12</th>\n",
              "      <th class=\"col_heading level0 col13\" >13</th>\n",
              "      <th class=\"col_heading level0 col14\" >14</th>\n",
              "      <th class=\"col_heading level0 col15\" >15</th>\n",
              "      <th class=\"col_heading level0 col16\" >16</th>\n",
              "      <th class=\"col_heading level0 col17\" >17</th>\n",
              "    </tr>\n",
              "  </thead>\n",
              "  <tbody>\n",
              "    <tr>\n",
              "      <th id=\"T_0d186_level0_row0\" class=\"row_heading level0 row0\" >0</th>\n",
              "      <td id=\"T_0d186_row0_col0\" class=\"data row0 col0\" >0</td>\n",
              "      <td id=\"T_0d186_row0_col1\" class=\"data row0 col1\" >0</td>\n",
              "      <td id=\"T_0d186_row0_col2\" class=\"data row0 col2\" >0</td>\n",
              "      <td id=\"T_0d186_row0_col3\" class=\"data row0 col3\" >0</td>\n",
              "      <td id=\"T_0d186_row0_col4\" class=\"data row0 col4\" >0</td>\n",
              "      <td id=\"T_0d186_row0_col5\" class=\"data row0 col5\" >0</td>\n",
              "      <td id=\"T_0d186_row0_col6\" class=\"data row0 col6\" >0</td>\n",
              "      <td id=\"T_0d186_row0_col7\" class=\"data row0 col7\" >0</td>\n",
              "      <td id=\"T_0d186_row0_col8\" class=\"data row0 col8\" >0</td>\n",
              "      <td id=\"T_0d186_row0_col9\" class=\"data row0 col9\" >0</td>\n",
              "      <td id=\"T_0d186_row0_col10\" class=\"data row0 col10\" >0</td>\n",
              "      <td id=\"T_0d186_row0_col11\" class=\"data row0 col11\" >0</td>\n",
              "      <td id=\"T_0d186_row0_col12\" class=\"data row0 col12\" >0</td>\n",
              "      <td id=\"T_0d186_row0_col13\" class=\"data row0 col13\" >0</td>\n",
              "      <td id=\"T_0d186_row0_col14\" class=\"data row0 col14\" >0</td>\n",
              "      <td id=\"T_0d186_row0_col15\" class=\"data row0 col15\" >0</td>\n",
              "      <td id=\"T_0d186_row0_col16\" class=\"data row0 col16\" >0</td>\n",
              "      <td id=\"T_0d186_row0_col17\" class=\"data row0 col17\" >0</td>\n",
              "    </tr>\n",
              "    <tr>\n",
              "      <th id=\"T_0d186_level0_row1\" class=\"row_heading level0 row1\" >1</th>\n",
              "      <td id=\"T_0d186_row1_col0\" class=\"data row1 col0\" >0</td>\n",
              "      <td id=\"T_0d186_row1_col1\" class=\"data row1 col1\" >0</td>\n",
              "      <td id=\"T_0d186_row1_col2\" class=\"data row1 col2\" >0</td>\n",
              "      <td id=\"T_0d186_row1_col3\" class=\"data row1 col3\" >0</td>\n",
              "      <td id=\"T_0d186_row1_col4\" class=\"data row1 col4\" >0</td>\n",
              "      <td id=\"T_0d186_row1_col5\" class=\"data row1 col5\" >29</td>\n",
              "      <td id=\"T_0d186_row1_col6\" class=\"data row1 col6\" >150</td>\n",
              "      <td id=\"T_0d186_row1_col7\" class=\"data row1 col7\" >195</td>\n",
              "      <td id=\"T_0d186_row1_col8\" class=\"data row1 col8\" >254</td>\n",
              "      <td id=\"T_0d186_row1_col9\" class=\"data row1 col9\" >255</td>\n",
              "      <td id=\"T_0d186_row1_col10\" class=\"data row1 col10\" >254</td>\n",
              "      <td id=\"T_0d186_row1_col11\" class=\"data row1 col11\" >176</td>\n",
              "      <td id=\"T_0d186_row1_col12\" class=\"data row1 col12\" >193</td>\n",
              "      <td id=\"T_0d186_row1_col13\" class=\"data row1 col13\" >150</td>\n",
              "      <td id=\"T_0d186_row1_col14\" class=\"data row1 col14\" >96</td>\n",
              "      <td id=\"T_0d186_row1_col15\" class=\"data row1 col15\" >0</td>\n",
              "      <td id=\"T_0d186_row1_col16\" class=\"data row1 col16\" >0</td>\n",
              "      <td id=\"T_0d186_row1_col17\" class=\"data row1 col17\" >0</td>\n",
              "    </tr>\n",
              "    <tr>\n",
              "      <th id=\"T_0d186_level0_row2\" class=\"row_heading level0 row2\" >2</th>\n",
              "      <td id=\"T_0d186_row2_col0\" class=\"data row2 col0\" >0</td>\n",
              "      <td id=\"T_0d186_row2_col1\" class=\"data row2 col1\" >0</td>\n",
              "      <td id=\"T_0d186_row2_col2\" class=\"data row2 col2\" >0</td>\n",
              "      <td id=\"T_0d186_row2_col3\" class=\"data row2 col3\" >48</td>\n",
              "      <td id=\"T_0d186_row2_col4\" class=\"data row2 col4\" >166</td>\n",
              "      <td id=\"T_0d186_row2_col5\" class=\"data row2 col5\" >224</td>\n",
              "      <td id=\"T_0d186_row2_col6\" class=\"data row2 col6\" >253</td>\n",
              "      <td id=\"T_0d186_row2_col7\" class=\"data row2 col7\" >253</td>\n",
              "      <td id=\"T_0d186_row2_col8\" class=\"data row2 col8\" >234</td>\n",
              "      <td id=\"T_0d186_row2_col9\" class=\"data row2 col9\" >196</td>\n",
              "      <td id=\"T_0d186_row2_col10\" class=\"data row2 col10\" >253</td>\n",
              "      <td id=\"T_0d186_row2_col11\" class=\"data row2 col11\" >253</td>\n",
              "      <td id=\"T_0d186_row2_col12\" class=\"data row2 col12\" >253</td>\n",
              "      <td id=\"T_0d186_row2_col13\" class=\"data row2 col13\" >253</td>\n",
              "      <td id=\"T_0d186_row2_col14\" class=\"data row2 col14\" >233</td>\n",
              "      <td id=\"T_0d186_row2_col15\" class=\"data row2 col15\" >0</td>\n",
              "      <td id=\"T_0d186_row2_col16\" class=\"data row2 col16\" >0</td>\n",
              "      <td id=\"T_0d186_row2_col17\" class=\"data row2 col17\" >0</td>\n",
              "    </tr>\n",
              "    <tr>\n",
              "      <th id=\"T_0d186_level0_row3\" class=\"row_heading level0 row3\" >3</th>\n",
              "      <td id=\"T_0d186_row3_col0\" class=\"data row3 col0\" >0</td>\n",
              "      <td id=\"T_0d186_row3_col1\" class=\"data row3 col1\" >93</td>\n",
              "      <td id=\"T_0d186_row3_col2\" class=\"data row3 col2\" >244</td>\n",
              "      <td id=\"T_0d186_row3_col3\" class=\"data row3 col3\" >249</td>\n",
              "      <td id=\"T_0d186_row3_col4\" class=\"data row3 col4\" >253</td>\n",
              "      <td id=\"T_0d186_row3_col5\" class=\"data row3 col5\" >187</td>\n",
              "      <td id=\"T_0d186_row3_col6\" class=\"data row3 col6\" >46</td>\n",
              "      <td id=\"T_0d186_row3_col7\" class=\"data row3 col7\" >10</td>\n",
              "      <td id=\"T_0d186_row3_col8\" class=\"data row3 col8\" >8</td>\n",
              "      <td id=\"T_0d186_row3_col9\" class=\"data row3 col9\" >4</td>\n",
              "      <td id=\"T_0d186_row3_col10\" class=\"data row3 col10\" >10</td>\n",
              "      <td id=\"T_0d186_row3_col11\" class=\"data row3 col11\" >194</td>\n",
              "      <td id=\"T_0d186_row3_col12\" class=\"data row3 col12\" >253</td>\n",
              "      <td id=\"T_0d186_row3_col13\" class=\"data row3 col13\" >253</td>\n",
              "      <td id=\"T_0d186_row3_col14\" class=\"data row3 col14\" >233</td>\n",
              "      <td id=\"T_0d186_row3_col15\" class=\"data row3 col15\" >0</td>\n",
              "      <td id=\"T_0d186_row3_col16\" class=\"data row3 col16\" >0</td>\n",
              "      <td id=\"T_0d186_row3_col17\" class=\"data row3 col17\" >0</td>\n",
              "    </tr>\n",
              "    <tr>\n",
              "      <th id=\"T_0d186_level0_row4\" class=\"row_heading level0 row4\" >4</th>\n",
              "      <td id=\"T_0d186_row4_col0\" class=\"data row4 col0\" >0</td>\n",
              "      <td id=\"T_0d186_row4_col1\" class=\"data row4 col1\" >107</td>\n",
              "      <td id=\"T_0d186_row4_col2\" class=\"data row4 col2\" >253</td>\n",
              "      <td id=\"T_0d186_row4_col3\" class=\"data row4 col3\" >253</td>\n",
              "      <td id=\"T_0d186_row4_col4\" class=\"data row4 col4\" >230</td>\n",
              "      <td id=\"T_0d186_row4_col5\" class=\"data row4 col5\" >48</td>\n",
              "      <td id=\"T_0d186_row4_col6\" class=\"data row4 col6\" >0</td>\n",
              "      <td id=\"T_0d186_row4_col7\" class=\"data row4 col7\" >0</td>\n",
              "      <td id=\"T_0d186_row4_col8\" class=\"data row4 col8\" >0</td>\n",
              "      <td id=\"T_0d186_row4_col9\" class=\"data row4 col9\" >0</td>\n",
              "      <td id=\"T_0d186_row4_col10\" class=\"data row4 col10\" >0</td>\n",
              "      <td id=\"T_0d186_row4_col11\" class=\"data row4 col11\" >192</td>\n",
              "      <td id=\"T_0d186_row4_col12\" class=\"data row4 col12\" >253</td>\n",
              "      <td id=\"T_0d186_row4_col13\" class=\"data row4 col13\" >253</td>\n",
              "      <td id=\"T_0d186_row4_col14\" class=\"data row4 col14\" >156</td>\n",
              "      <td id=\"T_0d186_row4_col15\" class=\"data row4 col15\" >0</td>\n",
              "      <td id=\"T_0d186_row4_col16\" class=\"data row4 col16\" >0</td>\n",
              "      <td id=\"T_0d186_row4_col17\" class=\"data row4 col17\" >0</td>\n",
              "    </tr>\n",
              "    <tr>\n",
              "      <th id=\"T_0d186_level0_row5\" class=\"row_heading level0 row5\" >5</th>\n",
              "      <td id=\"T_0d186_row5_col0\" class=\"data row5 col0\" >0</td>\n",
              "      <td id=\"T_0d186_row5_col1\" class=\"data row5 col1\" >3</td>\n",
              "      <td id=\"T_0d186_row5_col2\" class=\"data row5 col2\" >20</td>\n",
              "      <td id=\"T_0d186_row5_col3\" class=\"data row5 col3\" >20</td>\n",
              "      <td id=\"T_0d186_row5_col4\" class=\"data row5 col4\" >15</td>\n",
              "      <td id=\"T_0d186_row5_col5\" class=\"data row5 col5\" >0</td>\n",
              "      <td id=\"T_0d186_row5_col6\" class=\"data row5 col6\" >0</td>\n",
              "      <td id=\"T_0d186_row5_col7\" class=\"data row5 col7\" >0</td>\n",
              "      <td id=\"T_0d186_row5_col8\" class=\"data row5 col8\" >0</td>\n",
              "      <td id=\"T_0d186_row5_col9\" class=\"data row5 col9\" >0</td>\n",
              "      <td id=\"T_0d186_row5_col10\" class=\"data row5 col10\" >43</td>\n",
              "      <td id=\"T_0d186_row5_col11\" class=\"data row5 col11\" >224</td>\n",
              "      <td id=\"T_0d186_row5_col12\" class=\"data row5 col12\" >253</td>\n",
              "      <td id=\"T_0d186_row5_col13\" class=\"data row5 col13\" >245</td>\n",
              "      <td id=\"T_0d186_row5_col14\" class=\"data row5 col14\" >74</td>\n",
              "      <td id=\"T_0d186_row5_col15\" class=\"data row5 col15\" >0</td>\n",
              "      <td id=\"T_0d186_row5_col16\" class=\"data row5 col16\" >0</td>\n",
              "      <td id=\"T_0d186_row5_col17\" class=\"data row5 col17\" >0</td>\n",
              "    </tr>\n",
              "    <tr>\n",
              "      <th id=\"T_0d186_level0_row6\" class=\"row_heading level0 row6\" >6</th>\n",
              "      <td id=\"T_0d186_row6_col0\" class=\"data row6 col0\" >0</td>\n",
              "      <td id=\"T_0d186_row6_col1\" class=\"data row6 col1\" >0</td>\n",
              "      <td id=\"T_0d186_row6_col2\" class=\"data row6 col2\" >0</td>\n",
              "      <td id=\"T_0d186_row6_col3\" class=\"data row6 col3\" >0</td>\n",
              "      <td id=\"T_0d186_row6_col4\" class=\"data row6 col4\" >0</td>\n",
              "      <td id=\"T_0d186_row6_col5\" class=\"data row6 col5\" >0</td>\n",
              "      <td id=\"T_0d186_row6_col6\" class=\"data row6 col6\" >0</td>\n",
              "      <td id=\"T_0d186_row6_col7\" class=\"data row6 col7\" >0</td>\n",
              "      <td id=\"T_0d186_row6_col8\" class=\"data row6 col8\" >0</td>\n",
              "      <td id=\"T_0d186_row6_col9\" class=\"data row6 col9\" >0</td>\n",
              "      <td id=\"T_0d186_row6_col10\" class=\"data row6 col10\" >249</td>\n",
              "      <td id=\"T_0d186_row6_col11\" class=\"data row6 col11\" >253</td>\n",
              "      <td id=\"T_0d186_row6_col12\" class=\"data row6 col12\" >245</td>\n",
              "      <td id=\"T_0d186_row6_col13\" class=\"data row6 col13\" >126</td>\n",
              "      <td id=\"T_0d186_row6_col14\" class=\"data row6 col14\" >0</td>\n",
              "      <td id=\"T_0d186_row6_col15\" class=\"data row6 col15\" >0</td>\n",
              "      <td id=\"T_0d186_row6_col16\" class=\"data row6 col16\" >0</td>\n",
              "      <td id=\"T_0d186_row6_col17\" class=\"data row6 col17\" >0</td>\n",
              "    </tr>\n",
              "    <tr>\n",
              "      <th id=\"T_0d186_level0_row7\" class=\"row_heading level0 row7\" >7</th>\n",
              "      <td id=\"T_0d186_row7_col0\" class=\"data row7 col0\" >0</td>\n",
              "      <td id=\"T_0d186_row7_col1\" class=\"data row7 col1\" >0</td>\n",
              "      <td id=\"T_0d186_row7_col2\" class=\"data row7 col2\" >0</td>\n",
              "      <td id=\"T_0d186_row7_col3\" class=\"data row7 col3\" >0</td>\n",
              "      <td id=\"T_0d186_row7_col4\" class=\"data row7 col4\" >0</td>\n",
              "      <td id=\"T_0d186_row7_col5\" class=\"data row7 col5\" >0</td>\n",
              "      <td id=\"T_0d186_row7_col6\" class=\"data row7 col6\" >0</td>\n",
              "      <td id=\"T_0d186_row7_col7\" class=\"data row7 col7\" >14</td>\n",
              "      <td id=\"T_0d186_row7_col8\" class=\"data row7 col8\" >101</td>\n",
              "      <td id=\"T_0d186_row7_col9\" class=\"data row7 col9\" >223</td>\n",
              "      <td id=\"T_0d186_row7_col10\" class=\"data row7 col10\" >253</td>\n",
              "      <td id=\"T_0d186_row7_col11\" class=\"data row7 col11\" >248</td>\n",
              "      <td id=\"T_0d186_row7_col12\" class=\"data row7 col12\" >124</td>\n",
              "      <td id=\"T_0d186_row7_col13\" class=\"data row7 col13\" >0</td>\n",
              "      <td id=\"T_0d186_row7_col14\" class=\"data row7 col14\" >0</td>\n",
              "      <td id=\"T_0d186_row7_col15\" class=\"data row7 col15\" >0</td>\n",
              "      <td id=\"T_0d186_row7_col16\" class=\"data row7 col16\" >0</td>\n",
              "      <td id=\"T_0d186_row7_col17\" class=\"data row7 col17\" >0</td>\n",
              "    </tr>\n",
              "    <tr>\n",
              "      <th id=\"T_0d186_level0_row8\" class=\"row_heading level0 row8\" >8</th>\n",
              "      <td id=\"T_0d186_row8_col0\" class=\"data row8 col0\" >0</td>\n",
              "      <td id=\"T_0d186_row8_col1\" class=\"data row8 col1\" >0</td>\n",
              "      <td id=\"T_0d186_row8_col2\" class=\"data row8 col2\" >0</td>\n",
              "      <td id=\"T_0d186_row8_col3\" class=\"data row8 col3\" >0</td>\n",
              "      <td id=\"T_0d186_row8_col4\" class=\"data row8 col4\" >0</td>\n",
              "      <td id=\"T_0d186_row8_col5\" class=\"data row8 col5\" >11</td>\n",
              "      <td id=\"T_0d186_row8_col6\" class=\"data row8 col6\" >166</td>\n",
              "      <td id=\"T_0d186_row8_col7\" class=\"data row8 col7\" >239</td>\n",
              "      <td id=\"T_0d186_row8_col8\" class=\"data row8 col8\" >253</td>\n",
              "      <td id=\"T_0d186_row8_col9\" class=\"data row8 col9\" >253</td>\n",
              "      <td id=\"T_0d186_row8_col10\" class=\"data row8 col10\" >253</td>\n",
              "      <td id=\"T_0d186_row8_col11\" class=\"data row8 col11\" >187</td>\n",
              "      <td id=\"T_0d186_row8_col12\" class=\"data row8 col12\" >30</td>\n",
              "      <td id=\"T_0d186_row8_col13\" class=\"data row8 col13\" >0</td>\n",
              "      <td id=\"T_0d186_row8_col14\" class=\"data row8 col14\" >0</td>\n",
              "      <td id=\"T_0d186_row8_col15\" class=\"data row8 col15\" >0</td>\n",
              "      <td id=\"T_0d186_row8_col16\" class=\"data row8 col16\" >0</td>\n",
              "      <td id=\"T_0d186_row8_col17\" class=\"data row8 col17\" >0</td>\n",
              "    </tr>\n",
              "    <tr>\n",
              "      <th id=\"T_0d186_level0_row9\" class=\"row_heading level0 row9\" >9</th>\n",
              "      <td id=\"T_0d186_row9_col0\" class=\"data row9 col0\" >0</td>\n",
              "      <td id=\"T_0d186_row9_col1\" class=\"data row9 col1\" >0</td>\n",
              "      <td id=\"T_0d186_row9_col2\" class=\"data row9 col2\" >0</td>\n",
              "      <td id=\"T_0d186_row9_col3\" class=\"data row9 col3\" >0</td>\n",
              "      <td id=\"T_0d186_row9_col4\" class=\"data row9 col4\" >0</td>\n",
              "      <td id=\"T_0d186_row9_col5\" class=\"data row9 col5\" >16</td>\n",
              "      <td id=\"T_0d186_row9_col6\" class=\"data row9 col6\" >248</td>\n",
              "      <td id=\"T_0d186_row9_col7\" class=\"data row9 col7\" >250</td>\n",
              "      <td id=\"T_0d186_row9_col8\" class=\"data row9 col8\" >253</td>\n",
              "      <td id=\"T_0d186_row9_col9\" class=\"data row9 col9\" >253</td>\n",
              "      <td id=\"T_0d186_row9_col10\" class=\"data row9 col10\" >253</td>\n",
              "      <td id=\"T_0d186_row9_col11\" class=\"data row9 col11\" >253</td>\n",
              "      <td id=\"T_0d186_row9_col12\" class=\"data row9 col12\" >232</td>\n",
              "      <td id=\"T_0d186_row9_col13\" class=\"data row9 col13\" >213</td>\n",
              "      <td id=\"T_0d186_row9_col14\" class=\"data row9 col14\" >111</td>\n",
              "      <td id=\"T_0d186_row9_col15\" class=\"data row9 col15\" >2</td>\n",
              "      <td id=\"T_0d186_row9_col16\" class=\"data row9 col16\" >0</td>\n",
              "      <td id=\"T_0d186_row9_col17\" class=\"data row9 col17\" >0</td>\n",
              "    </tr>\n",
              "    <tr>\n",
              "      <th id=\"T_0d186_level0_row10\" class=\"row_heading level0 row10\" >10</th>\n",
              "      <td id=\"T_0d186_row10_col0\" class=\"data row10 col0\" >0</td>\n",
              "      <td id=\"T_0d186_row10_col1\" class=\"data row10 col1\" >0</td>\n",
              "      <td id=\"T_0d186_row10_col2\" class=\"data row10 col2\" >0</td>\n",
              "      <td id=\"T_0d186_row10_col3\" class=\"data row10 col3\" >0</td>\n",
              "      <td id=\"T_0d186_row10_col4\" class=\"data row10 col4\" >0</td>\n",
              "      <td id=\"T_0d186_row10_col5\" class=\"data row10 col5\" >0</td>\n",
              "      <td id=\"T_0d186_row10_col6\" class=\"data row10 col6\" >0</td>\n",
              "      <td id=\"T_0d186_row10_col7\" class=\"data row10 col7\" >43</td>\n",
              "      <td id=\"T_0d186_row10_col8\" class=\"data row10 col8\" >98</td>\n",
              "      <td id=\"T_0d186_row10_col9\" class=\"data row10 col9\" >98</td>\n",
              "      <td id=\"T_0d186_row10_col10\" class=\"data row10 col10\" >208</td>\n",
              "      <td id=\"T_0d186_row10_col11\" class=\"data row10 col11\" >253</td>\n",
              "      <td id=\"T_0d186_row10_col12\" class=\"data row10 col12\" >253</td>\n",
              "      <td id=\"T_0d186_row10_col13\" class=\"data row10 col13\" >253</td>\n",
              "      <td id=\"T_0d186_row10_col14\" class=\"data row10 col14\" >253</td>\n",
              "      <td id=\"T_0d186_row10_col15\" class=\"data row10 col15\" >187</td>\n",
              "      <td id=\"T_0d186_row10_col16\" class=\"data row10 col16\" >22</td>\n",
              "      <td id=\"T_0d186_row10_col17\" class=\"data row10 col17\" >0</td>\n",
              "    </tr>\n",
              "  </tbody>\n",
              "</table>\n"
            ]
          },
          "metadata": {},
          "execution_count": 123
        }
      ]
    },
    {
      "cell_type": "code",
      "source": [
        "seven_tensors = [tensor(Image.open(o)) for o in sevens]\n",
        "three_tensors = [tensor(Image.open(o)) for o in threes]\n",
        "len(three_tensors),len(seven_tensors)\n",
        "# three_tensors[:2]"
      ],
      "metadata": {
        "colab": {
          "base_uri": "https://localhost:8080/"
        },
        "id": "J7kEHD_tz_3y",
        "outputId": "62da6f26-d247-4cb1-9e7b-283bfd94a4ec"
      },
      "execution_count": 195,
      "outputs": [
        {
          "output_type": "execute_result",
          "data": {
            "text/plain": [
              "(6131, 6265)"
            ]
          },
          "metadata": {},
          "execution_count": 195
        }
      ]
    },
    {
      "cell_type": "code",
      "source": [
        "show_image(three_tensors[1]);"
      ],
      "metadata": {
        "colab": {
          "base_uri": "https://localhost:8080/",
          "height": 85
        },
        "id": "Q-ZTZqLl7BFJ",
        "outputId": "f89790de-48bb-4341-82a6-e0b8849229b9"
      },
      "execution_count": 125,
      "outputs": [
        {
          "output_type": "display_data",
          "data": {
            "text/plain": [
              "<Figure size 72x72 with 1 Axes>"
            ],
            "image/png": "[encoded data removed]"
          },
          "metadata": {
            "needs_background": "light"
          }
        }
      ]
    },
    {
      "cell_type": "code",
      "source": [
        "stacked_sevens = torch.stack(seven_tensors).float()/255\n",
        "stacked_threes = torch.stack(three_tensors).float()/255\n",
        "# stacked_threes.shape\n",
        "torch.stack(three_tensors)[0]"
      ],
      "metadata": {
        "colab": {
          "base_uri": "https://localhost:8080/"
        },
        "id": "ubgwGKpM7ZzS",
        "outputId": "7f594632-2b36-4f04-a4ea-c8452ef47e37"
      },
      "execution_count": 201,
      "outputs": [
        {
          "output_type": "execute_result",
          "data": {
            "text/plain": [
              "tensor([[  0,   0,   0,   0,   0,   0,   0,   0,   0,   0,   0,   0,   0,   0,   0,   0,   0,   0,   0,   0,   0,   0,   0,   0,   0,   0,   0,   0],\n",
              "        [  0,   0,   0,   0,   0,   0,   0,   0,   0,   0,   0,   0,   0,   0,   0,   0,   0,   0,   0,   0,   0,   0,   0,   0,   0,   0,   0,   0],\n",
              "        [  0,   0,   0,   0,   0,   0,   0,   0,   0,   0,   0,   0,   0,   0,   0,   0,   0,   0,   0,   0,   0,   0,   0,   0,   0,   0,   0,   0],\n",
              "        [  0,   0,   0,   0,   0,   0,   0,   0,   0,   0,   0,   0,   0,   0,   0,   0,   0,   0,   0,   0,   0,   0,   0,   0,   0,   0,   0,   0],\n",
              "        [  0,   0,   0,   0,   0,   0,   0,   0,   0,   0,   0,  42, 118, 219, 166, 118, 118,   6,   0,   0,   0,   0,   0,   0,   0,   0,   0,   0],\n",
              "        [  0,   0,   0,   0,   0,   0,   0,   0,   0,   0, 103, 242, 254, 254, 254, 254, 254,  66,   0,   0,   0,   0,   0,   0,   0,   0,   0,   0],\n",
              "        [  0,   0,   0,   0,   0,   0,   0,   0,   0,   0,  18, 232, 254, 254, 254, 254, 254, 238,  70,   0,   0,   0,   0,   0,   0,   0,   0,   0],\n",
              "        [  0,   0,   0,   0,   0,   0,   0,   0,   0,   0,   0, 104, 244, 254, 224, 254, 254, 254, 141,   0,   0,   0,   0,   0,   0,   0,   0,   0],\n",
              "        [  0,   0,   0,   0,   0,   0,   0,   0,   0,   0,   0,   0, 207, 254, 210, 254, 254, 254,  34,   0,   0,   0,   0,   0,   0,   0,   0,   0],\n",
              "        [  0,   0,   0,   0,   0,   0,   0,   0,   0,   0,   0,   0,  84, 206, 254, 254, 254, 254,  41,   0,   0,   0,   0,   0,   0,   0,   0,   0],\n",
              "        [  0,   0,   0,   0,   0,   0,   0,   0,   0,   0,   0,   0,   0,  24, 209, 254, 254, 254, 171,   0,   0,   0,   0,   0,   0,   0,   0,   0],\n",
              "        [  0,   0,   0,   0,   0,   0,   0,   0,   0,   0,   0,   0,  91, 137, 253, 254, 254, 254, 112,   0,   0,   0,   0,   0,   0,   0,   0,   0],\n",
              "        [  0,   0,   0,   0,   0,   0,   0,   0,   0,   0,  40, 214, 250, 254, 254, 254, 254, 254,  34,   0,   0,   0,   0,   0,   0,   0,   0,   0],\n",
              "        [  0,   0,   0,   0,   0,   0,   0,   0,   0,   0,  81, 247, 254, 254, 254, 254, 254, 254, 146,   0,   0,   0,   0,   0,   0,   0,   0,   0],\n",
              "        [  0,   0,   0,   0,   0,   0,   0,   0,   0,   0,   0, 110, 246, 254, 254, 254, 254, 254, 171,   0,   0,   0,   0,   0,   0,   0,   0,   0],\n",
              "        [  0,   0,   0,   0,   0,   0,   0,   0,   0,   0,   0,   0,  73,  89,  89,  93, 240, 254, 171,   0,   0,   0,   0,   0,   0,   0,   0,   0],\n",
              "        [  0,   0,   0,   0,   0,   0,   0,   0,   0,   0,   0,   0,   0,   0,   0,   1, 128, 254, 219,  31,   0,   0,   0,   0,   0,   0,   0,   0],\n",
              "        [  0,   0,   0,   0,   0,   0,   0,   0,   0,   0,   0,   0,   0,   0,   0,   7, 254, 254, 214,  28,   0,   0,   0,   0,   0,   0,   0,   0],\n",
              "        [  0,   0,   0,   0,   0,   0,   0,   0,   0,   0,   0,   0,   0,   0,   0, 138, 254, 254, 116,   0,   0,   0,   0,   0,   0,   0,   0,   0],\n",
              "        [  0,   0,   0,   0,   0,   0,  19, 177,  90,   0,   0,   0,   0,   0,  25, 240, 254, 254,  34,   0,   0,   0,   0,   0,   0,   0,   0,   0],\n",
              "        [  0,   0,   0,   0,   0,   0, 164, 254, 215,  63,  36,   0,  51,  89, 206, 254, 254, 139,   8,   0,   0,   0,   0,   0,   0,   0,   0,   0],\n",
              "        [  0,   0,   0,   0,   0,   0,  57, 197, 254, 254, 222, 180, 241, 254, 254, 253, 213,  11,   0,   0,   0,   0,   0,   0,   0,   0,   0,   0],\n",
              "        [  0,   0,   0,   0,   0,   0,   0, 140, 105, 254, 254, 254, 254, 254, 254, 236,   0,   0,   0,   0,   0,   0,   0,   0,   0,   0,   0,   0],\n",
              "        [  0,   0,   0,   0,   0,   0,   0,   0,   7, 117, 117, 165, 254, 254, 239,  50,   0,   0,   0,   0,   0,   0,   0,   0,   0,   0,   0,   0],\n",
              "        [  0,   0,   0,   0,   0,   0,   0,   0,   0,   0,   0,   0,   0,   0,   0,   0,   0,   0,   0,   0,   0,   0,   0,   0,   0,   0,   0,   0],\n",
              "        [  0,   0,   0,   0,   0,   0,   0,   0,   0,   0,   0,   0,   0,   0,   0,   0,   0,   0,   0,   0,   0,   0,   0,   0,   0,   0,   0,   0],\n",
              "        [  0,   0,   0,   0,   0,   0,   0,   0,   0,   0,   0,   0,   0,   0,   0,   0,   0,   0,   0,   0,   0,   0,   0,   0,   0,   0,   0,   0],\n",
              "        [  0,   0,   0,   0,   0,   0,   0,   0,   0,   0,   0,   0,   0,   0,   0,   0,   0,   0,   0,   0,   0,   0,   0,   0,   0,   0,   0,   0]], dtype=torch.uint8)"
            ]
          },
          "metadata": {},
          "execution_count": 201
        }
      ]
    },
    {
      "cell_type": "code",
      "source": [
        "mean3 = stacked_threes.mean(0)\n",
        "show_image(mean3);"
      ],
      "metadata": {
        "colab": {
          "base_uri": "https://localhost:8080/",
          "height": 85
        },
        "id": "EI9o8gYI8QHY",
        "outputId": "13da4ebe-7f48-4c9e-9efa-6066396b309a"
      },
      "execution_count": 127,
      "outputs": [
        {
          "output_type": "display_data",
          "data": {
            "text/plain": [
              "<Figure size 72x72 with 1 Axes>"
            ],
            "image/png": "[encoded data removed]"
          },
          "metadata": {
            "needs_background": "light"
          }
        }
      ]
    },
    {
      "cell_type": "code",
      "source": [
        "mean7 = stacked_sevens.mean(0)\n",
        "show_image(mean7);"
      ],
      "metadata": {
        "colab": {
          "base_uri": "https://localhost:8080/",
          "height": 85
        },
        "id": "1AvcxN4R-JH2",
        "outputId": "19b69881-6051-453a-b671-47794945346d"
      },
      "execution_count": 128,
      "outputs": [
        {
          "output_type": "display_data",
          "data": {
            "text/plain": [
              "<Figure size 72x72 with 1 Axes>"
            ],
            "image/png": "[encoded data removed]"
          },
          "metadata": {
            "needs_background": "light"
          }
        }
      ]
    },
    {
      "cell_type": "code",
      "source": [
        "a_3 = stacked_threes[1]\n",
        "show_image(a_3);"
      ],
      "metadata": {
        "colab": {
          "base_uri": "https://localhost:8080/",
          "height": 85
        },
        "id": "feoRCeWW-Rz4",
        "outputId": "c83decbd-2056-4a1e-8f63-556e31430762"
      },
      "execution_count": 129,
      "outputs": [
        {
          "output_type": "display_data",
          "data": {
            "text/plain": [
              "<Figure size 72x72 with 1 Axes>"
            ],
            "image/png": "[encoded data removed]"
          },
          "metadata": {
            "needs_background": "light"
          }
        }
      ]
    },
    {
      "cell_type": "code",
      "source": [
        "dist_3_abs = (a_3 - mean3).abs().mean()\n",
        "dist_3_sqr = ((a_3 - mean3)**2).mean().sqrt()\n",
        "dist_3_abs,dist_3_sqr"
      ],
      "metadata": {
        "colab": {
          "base_uri": "https://localhost:8080/"
        },
        "id": "qzcFUj0--akH",
        "outputId": "7bfaaae2-31a1-4e66-f5f8-7c600f914497"
      },
      "execution_count": 130,
      "outputs": [
        {
          "output_type": "execute_result",
          "data": {
            "text/plain": [
              "(tensor(0.1114), tensor(0.2021))"
            ]
          },
          "metadata": {},
          "execution_count": 130
        }
      ]
    },
    {
      "cell_type": "code",
      "source": [
        "dist_7_abs = (a_3 - mean7).abs().mean()\n",
        "dist_7_sqr = ((a_3 - mean7)**2).mean().sqrt()\n",
        "dist_7_abs,dist_7_sqr"
      ],
      "metadata": {
        "colab": {
          "base_uri": "https://localhost:8080/"
        },
        "id": "TZl6Mve-_C3M",
        "outputId": "87784230-732f-45f4-84be-35b7965b3b27"
      },
      "execution_count": 131,
      "outputs": [
        {
          "output_type": "execute_result",
          "data": {
            "text/plain": [
              "(tensor(0.1586), tensor(0.3021))"
            ]
          },
          "metadata": {},
          "execution_count": 131
        }
      ]
    },
    {
      "cell_type": "code",
      "source": [
        "F.l1_loss(a_3.float(),mean7), F.mse_loss(a_3,mean7).sqrt()"
      ],
      "metadata": {
        "colab": {
          "base_uri": "https://localhost:8080/"
        },
        "id": "D_0OZQm9_UF6",
        "outputId": "58487e5a-05b3-4f0c-e7f8-cf6d69082713"
      },
      "execution_count": 132,
      "outputs": [
        {
          "output_type": "execute_result",
          "data": {
            "text/plain": [
              "(tensor(0.1586), tensor(0.3021))"
            ]
          },
          "metadata": {},
          "execution_count": 132
        }
      ]
    },
    {
      "cell_type": "code",
      "source": [
        "valid_3_tens = torch.stack([tensor(Image.open(o)) \n",
        "                            for o in (path/'valid'/'3').ls()])\n",
        "valid_3_tens = valid_3_tens.float()/255\n",
        "valid_7_tens = torch.stack([tensor(Image.open(o)) \n",
        "                            for o in (path/'valid'/'7').ls()])\n",
        "valid_7_tens = valid_7_tens.float()/255\n",
        "valid_3_tens.shape,valid_7_tens.shape"
      ],
      "metadata": {
        "colab": {
          "base_uri": "https://localhost:8080/"
        },
        "id": "cwh-2Fy1_7oW",
        "outputId": "d812856c-af52-4972-85c8-0a48b8730cb8"
      },
      "execution_count": 133,
      "outputs": [
        {
          "output_type": "execute_result",
          "data": {
            "text/plain": [
              "(torch.Size([1010, 28, 28]), torch.Size([1028, 28, 28]))"
            ]
          },
          "metadata": {},
          "execution_count": 133
        }
      ]
    },
    {
      "cell_type": "code",
      "source": [
        "def mnist_distance(a,b): return (a-b).abs().mean((-1,-2))\n",
        "mnist_distance(a_3, mean3)"
      ],
      "metadata": {
        "colab": {
          "base_uri": "https://localhost:8080/"
        },
        "id": "3ZMQ4I5OHxn-",
        "outputId": "e55776ed-ad13-4408-bfc9-bb5065434857"
      },
      "execution_count": 134,
      "outputs": [
        {
          "output_type": "execute_result",
          "data": {
            "text/plain": [
              "tensor(0.1114)"
            ]
          },
          "metadata": {},
          "execution_count": 134
        }
      ]
    },
    {
      "cell_type": "code",
      "source": [
        "valid_3_dist = mnist_distance(valid_3_tens, mean3)\n",
        "valid_3_dist, valid_3_dist.shape"
      ],
      "metadata": {
        "colab": {
          "base_uri": "https://localhost:8080/"
        },
        "id": "mUkGlnBSIAjK",
        "outputId": "2119d64d-e550-498d-b36b-2a65c905e1fb"
      },
      "execution_count": 135,
      "outputs": [
        {
          "output_type": "execute_result",
          "data": {
            "text/plain": [
              "(tensor([0.1417, 0.1244, 0.1115,  ..., 0.1228, 0.1111, 0.1295]),\n",
              " torch.Size([1010]))"
            ]
          },
          "metadata": {},
          "execution_count": 135
        }
      ]
    },
    {
      "cell_type": "code",
      "source": [
        "def is_3(x): return mnist_distance(x,mean3) < mnist_distance(x,mean7)"
      ],
      "metadata": {
        "id": "ypaedwmeITmt"
      },
      "execution_count": 136,
      "outputs": []
    },
    {
      "cell_type": "code",
      "source": [
        "is_3(a_3), is_3(a_3).float()"
      ],
      "metadata": {
        "colab": {
          "base_uri": "https://localhost:8080/"
        },
        "id": "UU6aq6pPKpNy",
        "outputId": "a461f71c-77c1-4da6-fdf8-d25e7b4f6612"
      },
      "execution_count": 137,
      "outputs": [
        {
          "output_type": "execute_result",
          "data": {
            "text/plain": [
              "(tensor(True), tensor(1.))"
            ]
          },
          "metadata": {},
          "execution_count": 137
        }
      ]
    },
    {
      "cell_type": "code",
      "source": [
        "is_3(valid_3_tens)"
      ],
      "metadata": {
        "colab": {
          "base_uri": "https://localhost:8080/"
        },
        "id": "E6hOtg_iKrH2",
        "outputId": "e920e4be-c6d5-47e8-ae80-9657c4ce2a59"
      },
      "execution_count": 138,
      "outputs": [
        {
          "output_type": "execute_result",
          "data": {
            "text/plain": [
              "tensor([True, True, True,  ..., True, True, True])"
            ]
          },
          "metadata": {},
          "execution_count": 138
        }
      ]
    },
    {
      "cell_type": "code",
      "source": [
        "accuracy_3s =      is_3(valid_3_tens).float() .mean()\n",
        "accuracy_7s = (1 - is_3(valid_7_tens).float()).mean()\n",
        "\n",
        "accuracy_3s,accuracy_7s,(accuracy_3s+accuracy_7s)/2"
      ],
      "metadata": {
        "colab": {
          "base_uri": "https://localhost:8080/"
        },
        "id": "JMGvSpKsKw-O",
        "outputId": "94380507-b73c-44d2-ef39-63457bc9b48d"
      },
      "execution_count": 139,
      "outputs": [
        {
          "output_type": "execute_result",
          "data": {
            "text/plain": [
              "(tensor(0.9168), tensor(0.9854), tensor(0.9511))"
            ]
          },
          "metadata": {},
          "execution_count": 139
        }
      ]
    },
    {
      "cell_type": "code",
      "source": [
        "train_x = torch.cat([stacked_threes, stacked_sevens]).view(-1, 28*28)"
      ],
      "metadata": {
        "id": "prq9eQQfLIPh"
      },
      "execution_count": 140,
      "outputs": []
    },
    {
      "cell_type": "code",
      "source": [
        "train_y = tensor([1]*len(threes) + [0]*len(sevens)).unsqueeze(1)\n",
        "train_x.shape,train_y.shape"
      ],
      "metadata": {
        "colab": {
          "base_uri": "https://localhost:8080/"
        },
        "id": "hBraTC9FEgMT",
        "outputId": "6af6e48d-e22f-43cd-d11f-f76f94532f2f"
      },
      "execution_count": 141,
      "outputs": [
        {
          "output_type": "execute_result",
          "data": {
            "text/plain": [
              "(torch.Size([12396, 784]), torch.Size([12396, 1]))"
            ]
          },
          "metadata": {},
          "execution_count": 141
        }
      ]
    },
    {
      "cell_type": "code",
      "source": [
        "dset = list(zip(train_x,train_y))\n",
        "x,y = dset[0]\n",
        "x.shape,y"
      ],
      "metadata": {
        "colab": {
          "base_uri": "https://localhost:8080/"
        },
        "id": "zbwa9STaEisy",
        "outputId": "be467af9-334c-4273-863d-cd5a0e0ce64a"
      },
      "execution_count": 142,
      "outputs": [
        {
          "output_type": "execute_result",
          "data": {
            "text/plain": [
              "(torch.Size([784]), tensor([1]))"
            ]
          },
          "metadata": {},
          "execution_count": 142
        }
      ]
    },
    {
      "cell_type": "code",
      "source": [
        "valid_x = torch.cat([valid_3_tens, valid_7_tens]).view(-1, 28*28)\n",
        "valid_y = tensor([1]*len(valid_3_tens) + [0]*len(valid_7_tens)).unsqueeze(1)\n",
        "valid_dset = list(zip(valid_x,valid_y))"
      ],
      "metadata": {
        "id": "YmV-iPJ7E1dy"
      },
      "execution_count": 143,
      "outputs": []
    },
    {
      "cell_type": "code",
      "source": [
        "def init_params(size, std=1.0): return (torch.randn(size)*std).requires_grad_()"
      ],
      "metadata": {
        "id": "XYjDkHdeFLgl"
      },
      "execution_count": 144,
      "outputs": []
    },
    {
      "cell_type": "code",
      "source": [
        "weights = init_params((28*28,1))"
      ],
      "metadata": {
        "id": "BvBj0bUwFTvy"
      },
      "execution_count": 145,
      "outputs": []
    },
    {
      "cell_type": "code",
      "source": [
        "bias = init_params(1)"
      ],
      "metadata": {
        "id": "tzj6LcGuFW-a"
      },
      "execution_count": 146,
      "outputs": []
    },
    {
      "cell_type": "code",
      "source": [
        "(train_x[0]*weights.T).sum() + bias"
      ],
      "metadata": {
        "colab": {
          "base_uri": "https://localhost:8080/"
        },
        "id": "OcItuAOuFitA",
        "outputId": "ebd9b22e-1c63-4ea2-d7d5-dc71dd0b83d6"
      },
      "execution_count": 147,
      "outputs": [
        {
          "output_type": "execute_result",
          "data": {
            "text/plain": [
              "tensor([11.5725], grad_fn=<AddBackward0>)"
            ]
          },
          "metadata": {},
          "execution_count": 147
        }
      ]
    },
    {
      "cell_type": "code",
      "source": [
        "def linear1(xb): return xb@weights + bias\n",
        "preds = linear1(train_x)"
      ],
      "metadata": {
        "id": "6rQ5rzLpOMfz"
      },
      "execution_count": 148,
      "outputs": []
    },
    {
      "cell_type": "code",
      "source": [
        "corrects = (preds>0.0).float() == train_y\n",
        "corrects"
      ],
      "metadata": {
        "colab": {
          "base_uri": "https://localhost:8080/"
        },
        "id": "qacHO18WJ_GT",
        "outputId": "f4c055e3-cef7-4895-94d5-7958fc137597"
      },
      "execution_count": 149,
      "outputs": [
        {
          "output_type": "execute_result",
          "data": {
            "text/plain": [
              "tensor([[ True],\n",
              "        [False],\n",
              "        [ True],\n",
              "        ...,\n",
              "        [ True],\n",
              "        [False],\n",
              "        [ True]])"
            ]
          },
          "metadata": {},
          "execution_count": 149
        }
      ]
    },
    {
      "cell_type": "code",
      "source": [
        "corrects.float().mean().item()"
      ],
      "metadata": {
        "colab": {
          "base_uri": "https://localhost:8080/"
        },
        "id": "9mXG0codOi3S",
        "outputId": "622458d0-2dd6-4962-8c2e-aca2aaa2440d"
      },
      "execution_count": 150,
      "outputs": [
        {
          "output_type": "execute_result",
          "data": {
            "text/plain": [
              "0.7086963653564453"
            ]
          },
          "metadata": {},
          "execution_count": 150
        }
      ]
    },
    {
      "cell_type": "code",
      "source": [
        "with torch.no_grad(): weights[0] *= 1.0001"
      ],
      "metadata": {
        "id": "hnFvUAeUOm6K"
      },
      "execution_count": 151,
      "outputs": []
    },
    {
      "cell_type": "code",
      "source": [
        "preds = linear1(train_x)\n",
        "((preds>0.0).float() == train_y).float().mean().item()"
      ],
      "metadata": {
        "colab": {
          "base_uri": "https://localhost:8080/"
        },
        "id": "EbmsrCl7Ouuz",
        "outputId": "8b32b302-b973-4504-9c53-423db76f53bb"
      },
      "execution_count": 152,
      "outputs": [
        {
          "output_type": "execute_result",
          "data": {
            "text/plain": [
              "0.7086963653564453"
            ]
          },
          "metadata": {},
          "execution_count": 152
        }
      ]
    },
    {
      "cell_type": "code",
      "source": [
        "def mnist_loss(predictions, targets):\n",
        "    return torch.where(targets==1, 1-predictions, predictions).mean()"
      ],
      "metadata": {
        "id": "f2JVG6YJPqxj"
      },
      "execution_count": 153,
      "outputs": []
    },
    {
      "cell_type": "code",
      "source": [
        "def sigmoid(x): return 1/(1+torch.exp(-x))"
      ],
      "metadata": {
        "id": "Nfp5yth3yJht"
      },
      "execution_count": 154,
      "outputs": []
    },
    {
      "cell_type": "code",
      "source": [
        "def mnist_loss(predictions, targets):\n",
        "    predictions = predictions.sigmoid()\n",
        "    return torch.where(targets==1, 1-predictions, predictions).mean()"
      ],
      "metadata": {
        "id": "JydhLZniykEN"
      },
      "execution_count": 155,
      "outputs": []
    },
    {
      "cell_type": "code",
      "source": [
        "weights = init_params((28*28,1))\n",
        "bias = init_params(1)"
      ],
      "metadata": {
        "id": "_w2NOgQu09vm"
      },
      "execution_count": 156,
      "outputs": []
    },
    {
      "cell_type": "code",
      "source": [
        "dl = DataLoader(dset, batch_size=256)\n",
        "xb,yb = first(dl)\n",
        "xb.shape,yb.shape"
      ],
      "metadata": {
        "colab": {
          "base_uri": "https://localhost:8080/"
        },
        "id": "28zi5q-m4Jjy",
        "outputId": "60bae146-6040-47da-db97-fb7e516ecf99"
      },
      "execution_count": 157,
      "outputs": [
        {
          "output_type": "execute_result",
          "data": {
            "text/plain": [
              "(torch.Size([256, 784]), torch.Size([256, 1]))"
            ]
          },
          "metadata": {},
          "execution_count": 157
        }
      ]
    },
    {
      "cell_type": "code",
      "source": [
        "valid_dl = DataLoader(valid_dset, batch_size=256)"
      ],
      "metadata": {
        "id": "ipQJz5D64Ng5"
      },
      "execution_count": 158,
      "outputs": []
    },
    {
      "cell_type": "code",
      "source": [
        "batch = train_x[:4]\n",
        "batch.shape"
      ],
      "metadata": {
        "colab": {
          "base_uri": "https://localhost:8080/"
        },
        "id": "WLKnfXSb4T0y",
        "outputId": "b2ca8560-719d-4f1b-a877-c93a186eb788"
      },
      "execution_count": 159,
      "outputs": [
        {
          "output_type": "execute_result",
          "data": {
            "text/plain": [
              "torch.Size([4, 784])"
            ]
          },
          "metadata": {},
          "execution_count": 159
        }
      ]
    },
    {
      "cell_type": "code",
      "source": [
        "preds = linear1(batch)\n",
        "preds"
      ],
      "metadata": {
        "colab": {
          "base_uri": "https://localhost:8080/"
        },
        "id": "rx0jr-OR4WLi",
        "outputId": "90a5ef1b-13a5-4bac-f744-fc57e46f0da5"
      },
      "execution_count": 160,
      "outputs": [
        {
          "output_type": "execute_result",
          "data": {
            "text/plain": [
              "tensor([[15.7982],\n",
              "        [16.6009],\n",
              "        [ 7.9966],\n",
              "        [23.5645]], grad_fn=<AddBackward0>)"
            ]
          },
          "metadata": {},
          "execution_count": 160
        }
      ]
    },
    {
      "cell_type": "code",
      "source": [
        "loss = mnist_loss(preds, train_y[:4])\n",
        "loss"
      ],
      "metadata": {
        "colab": {
          "base_uri": "https://localhost:8080/"
        },
        "id": "edL26c1o4Xar",
        "outputId": "93513d3b-4281-401b-b3bc-8e1d2b7a7cc3"
      },
      "execution_count": 161,
      "outputs": [
        {
          "output_type": "execute_result",
          "data": {
            "text/plain": [
              "tensor(8.4192e-05, grad_fn=<MeanBackward0>)"
            ]
          },
          "metadata": {},
          "execution_count": 161
        }
      ]
    },
    {
      "cell_type": "code",
      "source": [
        "loss.backward()\n",
        "weights.grad.shape,weights.grad.mean(),bias.grad"
      ],
      "metadata": {
        "colab": {
          "base_uri": "https://localhost:8080/"
        },
        "id": "hW8iwmKX4ZTG",
        "outputId": "98173d3b-5cbf-4f70-9905-da9a75e7fb9c"
      },
      "execution_count": 162,
      "outputs": [
        {
          "output_type": "execute_result",
          "data": {
            "text/plain": [
              "(torch.Size([784, 1]), tensor(-1.2072e-05), tensor([-8.4163e-05]))"
            ]
          },
          "metadata": {},
          "execution_count": 162
        }
      ]
    },
    {
      "cell_type": "code",
      "source": [
        "def calc_grad(xb, yb, model):\n",
        "    preds = model(xb)\n",
        "    loss = mnist_loss(preds, yb)\n",
        "    loss.backward()"
      ],
      "metadata": {
        "id": "t-ClKJGk4ay9"
      },
      "execution_count": 163,
      "outputs": []
    },
    {
      "cell_type": "code",
      "source": [
        "calc_grad(batch, train_y[:4], linear1)\n",
        "weights.grad.mean(),bias.grad"
      ],
      "metadata": {
        "colab": {
          "base_uri": "https://localhost:8080/"
        },
        "id": "VGOxHN5X4cor",
        "outputId": "62a0085a-7035-4142-c092-70f573a11eaa"
      },
      "execution_count": 164,
      "outputs": [
        {
          "output_type": "execute_result",
          "data": {
            "text/plain": [
              "(tensor(-2.4144e-05), tensor([-0.0002]))"
            ]
          },
          "metadata": {},
          "execution_count": 164
        }
      ]
    },
    {
      "cell_type": "code",
      "source": [
        "weights.grad.zero_()\n",
        "bias.grad.zero_();"
      ],
      "metadata": {
        "id": "bo7vpzFm4els"
      },
      "execution_count": 165,
      "outputs": []
    },
    {
      "cell_type": "code",
      "source": [
        "def train_epoch(model, lr, params):\n",
        "    for xb,yb in dl:\n",
        "        calc_grad(xb, yb, model)\n",
        "        for p in params:\n",
        "            p.data -= p.grad*lr\n",
        "            p.grad.zero_()"
      ],
      "metadata": {
        "id": "KhqoynM74ki9"
      },
      "execution_count": 166,
      "outputs": []
    },
    {
      "cell_type": "code",
      "source": [
        "(preds>0.0).float() == train_y[:4]"
      ],
      "metadata": {
        "colab": {
          "base_uri": "https://localhost:8080/"
        },
        "id": "PM5NLRey4-K2",
        "outputId": "97023411-f853-4814-a6cf-378dea5c6ee6"
      },
      "execution_count": 167,
      "outputs": [
        {
          "output_type": "execute_result",
          "data": {
            "text/plain": [
              "tensor([[True],\n",
              "        [True],\n",
              "        [True],\n",
              "        [True]])"
            ]
          },
          "metadata": {},
          "execution_count": 167
        }
      ]
    },
    {
      "cell_type": "code",
      "source": [
        "def batch_accuracy(xb, yb):\n",
        "    preds = xb.sigmoid()\n",
        "    correct = (preds>0.5) == yb\n",
        "    return correct.float().mean()"
      ],
      "metadata": {
        "id": "M6IQmojQ5CdD"
      },
      "execution_count": 168,
      "outputs": []
    },
    {
      "cell_type": "code",
      "source": [
        "batch_accuracy(linear1(batch), train_y[:4])"
      ],
      "metadata": {
        "colab": {
          "base_uri": "https://localhost:8080/"
        },
        "id": "jIY9gir05Gd7",
        "outputId": "8e60c65c-dbd4-46ae-b09d-c47039671cd0"
      },
      "execution_count": 169,
      "outputs": [
        {
          "output_type": "execute_result",
          "data": {
            "text/plain": [
              "tensor(1.)"
            ]
          },
          "metadata": {},
          "execution_count": 169
        }
      ]
    },
    {
      "cell_type": "code",
      "source": [
        "def validate_epoch(model):\n",
        "    accs = [batch_accuracy(model(xb), yb) for xb,yb in valid_dl]\n",
        "    return round(torch.stack(accs).mean().item(), 4)"
      ],
      "metadata": {
        "id": "KAVv5Wpr5IlE"
      },
      "execution_count": 170,
      "outputs": []
    },
    {
      "cell_type": "code",
      "source": [
        "lr = 1.\n",
        "params = weights,bias\n",
        "train_epoch(linear1, lr, params)\n",
        "validate_epoch(linear1)"
      ],
      "metadata": {
        "colab": {
          "base_uri": "https://localhost:8080/"
        },
        "id": "eaV-KCRY5Kpu",
        "outputId": "bd167654-9eb6-4ac7-b377-1778e0c6e9cb"
      },
      "execution_count": 171,
      "outputs": [
        {
          "output_type": "execute_result",
          "data": {
            "text/plain": [
              "0.6961"
            ]
          },
          "metadata": {},
          "execution_count": 171
        }
      ]
    },
    {
      "cell_type": "code",
      "source": [
        "for i in range(20):\n",
        "    train_epoch(linear1, lr, params)\n",
        "    print(validate_epoch(linear1), end=' ')"
      ],
      "metadata": {
        "colab": {
          "base_uri": "https://localhost:8080/"
        },
        "id": "PNc_GZso5Nlc",
        "outputId": "97fb25ec-4a39-4383-9e4f-eb0b1a67943b"
      },
      "execution_count": 172,
      "outputs": [
        {
          "output_type": "stream",
          "name": "stdout",
          "text": [
            "0.8558 0.9051 0.9281 0.9408 0.9505 0.9539 0.9554 0.9579 0.9618 0.9628 0.9637 0.9652 0.9657 0.9666 0.9686 0.9696 0.9711 0.9711 0.9706 0.9711 "
          ]
        }
      ]
    },
    {
      "cell_type": "code",
      "source": [
        "linear_model = nn.Linear(28*28,1)"
      ],
      "metadata": {
        "id": "Osti14i25PkW"
      },
      "execution_count": 173,
      "outputs": []
    },
    {
      "cell_type": "code",
      "source": [
        "w,b = linear_model.parameters()\n",
        "w.shape,b.shape"
      ],
      "metadata": {
        "colab": {
          "base_uri": "https://localhost:8080/"
        },
        "id": "v1P_ZDzl8NQ5",
        "outputId": "a3b04394-559c-405b-ebb8-bc9de488c275"
      },
      "execution_count": 174,
      "outputs": [
        {
          "output_type": "execute_result",
          "data": {
            "text/plain": [
              "(torch.Size([1, 784]), torch.Size([1]))"
            ]
          },
          "metadata": {},
          "execution_count": 174
        }
      ]
    },
    {
      "cell_type": "code",
      "source": [
        "class BasicOptim:\n",
        "    def __init__(self,params,lr): self.params,self.lr = list(params),lr\n",
        "\n",
        "    def step(self, *args, **kwargs):\n",
        "        for p in self.params: p.data -= p.grad.data * self.lr\n",
        "\n",
        "    def zero_grad(self, *args, **kwargs):\n",
        "        for p in self.params: p.grad = None"
      ],
      "metadata": {
        "id": "BPS1NxqB8PCy"
      },
      "execution_count": 175,
      "outputs": []
    },
    {
      "cell_type": "code",
      "source": [
        "opt = BasicOptim(linear_model.parameters(), lr)"
      ],
      "metadata": {
        "id": "jdyuRra78R-l"
      },
      "execution_count": 176,
      "outputs": []
    },
    {
      "cell_type": "code",
      "source": [
        "def train_epoch(model):\n",
        "    for xb,yb in dl:\n",
        "        calc_grad(xb, yb, model)\n",
        "        opt.step()\n",
        "        opt.zero_grad()"
      ],
      "metadata": {
        "id": "l6o2XmJ18ULT"
      },
      "execution_count": 177,
      "outputs": []
    },
    {
      "cell_type": "code",
      "source": [
        "validate_epoch(linear_model)"
      ],
      "metadata": {
        "colab": {
          "base_uri": "https://localhost:8080/"
        },
        "id": "Wp2xYE9z8WE7",
        "outputId": "e68313c1-1316-41e4-93f1-7b9a70640128"
      },
      "execution_count": 178,
      "outputs": [
        {
          "output_type": "execute_result",
          "data": {
            "text/plain": [
              "0.5405"
            ]
          },
          "metadata": {},
          "execution_count": 178
        }
      ]
    },
    {
      "cell_type": "code",
      "source": [
        "def train_model(model, epochs):\n",
        "    for i in range(epochs):\n",
        "        train_epoch(model)\n",
        "        print(validate_epoch(model), end=' ')"
      ],
      "metadata": {
        "id": "lTGA-duO8ZDX"
      },
      "execution_count": 179,
      "outputs": []
    },
    {
      "cell_type": "code",
      "source": [
        "train_model(linear_model, 20)"
      ],
      "metadata": {
        "colab": {
          "base_uri": "https://localhost:8080/"
        },
        "id": "H5gwDoEH8cdd",
        "outputId": "7168402c-e471-46d3-b59a-94ff4b644f4d"
      },
      "execution_count": 180,
      "outputs": [
        {
          "output_type": "stream",
          "name": "stdout",
          "text": [
            "0.4932 0.707 0.8696 0.9194 0.9374 0.9506 0.9574 0.9648 0.9662 0.9677 0.9701 0.9721 0.9736 0.975 0.976 0.977 0.9775 0.9779 0.9779 0.9779 "
          ]
        }
      ]
    },
    {
      "cell_type": "code",
      "source": [
        "linear_model = nn.Linear(28*28,1)\n",
        "opt = SGD(linear_model.parameters(), lr)\n",
        "train_model(linear_model, 20)"
      ],
      "metadata": {
        "colab": {
          "base_uri": "https://localhost:8080/"
        },
        "id": "EUbc22TH8ebh",
        "outputId": "d418f670-659a-4fec-80cf-7798598ca0f3"
      },
      "execution_count": 181,
      "outputs": [
        {
          "output_type": "stream",
          "name": "stdout",
          "text": [
            "0.4932 0.8364 0.8374 0.9111 0.933 0.9482 0.9565 0.9618 0.9653 0.9672 0.9692 0.9716 0.9736 0.975 0.9755 0.9765 0.9775 0.9779 0.9784 0.9784 "
          ]
        }
      ]
    },
    {
      "cell_type": "code",
      "source": [
        "dls = DataLoaders(dl, valid_dl)"
      ],
      "metadata": {
        "id": "KFMrCl9n8khm"
      },
      "execution_count": 182,
      "outputs": []
    },
    {
      "cell_type": "code",
      "source": [
        "learn = Learner(dls, nn.Linear(28*28,1), opt_func=SGD,\n",
        "                loss_func=mnist_loss, metrics=batch_accuracy)"
      ],
      "metadata": {
        "id": "yG1Vb65r9nBV"
      },
      "execution_count": 183,
      "outputs": []
    },
    {
      "cell_type": "code",
      "source": [
        "learn.fit(10, lr=lr)"
      ],
      "metadata": {
        "colab": {
          "base_uri": "https://localhost:8080/",
          "height": 363
        },
        "id": "SKbHi6gK9oqw",
        "outputId": "363f476a-2796-42f9-9c01-c4a11aaae20d"
      },
      "execution_count": 184,
      "outputs": [
        {
          "output_type": "display_data",
          "data": {
            "text/plain": [
              "<IPython.core.display.HTML object>"
            ],
            "text/html": [
              "\n",
              "<style>\n",
              "    /* Turns off some styling */\n",
              "    progress {\n",
              "        /* gets rid of default border in Firefox and Opera. */\n",
              "        border: none;\n",
              "        /* Needs to be in here for Safari polyfill so background images work as expected. */\n",
              "        background-size: auto;\n",
              "    }\n",
              "    progress:not([value]), progress:not([value])::-webkit-progress-bar {\n",
              "        background: repeating-linear-gradient(45deg, #7e7e7e, #7e7e7e 10px, #5c5c5c 10px, #5c5c5c 20px);\n",
              "    }\n",
              "    .progress-bar-interrupted, .progress-bar-interrupted::-webkit-progress-bar {\n",
              "        background: #F44336;\n",
              "    }\n",
              "</style>\n"
            ]
          },
          "metadata": {}
        },
        {
          "output_type": "display_data",
          "data": {
            "text/plain": [
              "<IPython.core.display.HTML object>"
            ],
            "text/html": [
              "<table border=\"1\" class=\"dataframe\">\n",
              "  <thead>\n",
              "    <tr style=\"text-align: left;\">\n",
              "      <th>epoch</th>\n",
              "      <th>train_loss</th>\n",
              "      <th>valid_loss</th>\n",
              "      <th>batch_accuracy</th>\n",
              "      <th>time</th>\n",
              "    </tr>\n",
              "  </thead>\n",
              "  <tbody>\n",
              "    <tr>\n",
              "      <td>0</td>\n",
              "      <td>0.637086</td>\n",
              "      <td>0.503244</td>\n",
              "      <td>0.495584</td>\n",
              "      <td>00:00</td>\n",
              "    </tr>\n",
              "    <tr>\n",
              "      <td>1</td>\n",
              "      <td>0.438342</td>\n",
              "      <td>0.251897</td>\n",
              "      <td>0.771835</td>\n",
              "      <td>00:00</td>\n",
              "    </tr>\n",
              "    <tr>\n",
              "      <td>2</td>\n",
              "      <td>0.164372</td>\n",
              "      <td>0.164397</td>\n",
              "      <td>0.852797</td>\n",
              "      <td>00:00</td>\n",
              "    </tr>\n",
              "    <tr>\n",
              "      <td>3</td>\n",
              "      <td>0.073829</td>\n",
              "      <td>0.101437</td>\n",
              "      <td>0.915113</td>\n",
              "      <td>00:01</td>\n",
              "    </tr>\n",
              "    <tr>\n",
              "      <td>4</td>\n",
              "      <td>0.040375</td>\n",
              "      <td>0.075321</td>\n",
              "      <td>0.933759</td>\n",
              "      <td>00:00</td>\n",
              "    </tr>\n",
              "    <tr>\n",
              "      <td>5</td>\n",
              "      <td>0.027236</td>\n",
              "      <td>0.060833</td>\n",
              "      <td>0.947498</td>\n",
              "      <td>00:00</td>\n",
              "    </tr>\n",
              "    <tr>\n",
              "      <td>6</td>\n",
              "      <td>0.021788</td>\n",
              "      <td>0.051709</td>\n",
              "      <td>0.957802</td>\n",
              "      <td>00:00</td>\n",
              "    </tr>\n",
              "    <tr>\n",
              "      <td>7</td>\n",
              "      <td>0.019334</td>\n",
              "      <td>0.045596</td>\n",
              "      <td>0.963690</td>\n",
              "      <td>00:00</td>\n",
              "    </tr>\n",
              "    <tr>\n",
              "      <td>8</td>\n",
              "      <td>0.018067</td>\n",
              "      <td>0.041281</td>\n",
              "      <td>0.965653</td>\n",
              "      <td>00:00</td>\n",
              "    </tr>\n",
              "    <tr>\n",
              "      <td>9</td>\n",
              "      <td>0.017290</td>\n",
              "      <td>0.038092</td>\n",
              "      <td>0.968106</td>\n",
              "      <td>00:00</td>\n",
              "    </tr>\n",
              "  </tbody>\n",
              "</table>"
            ]
          },
          "metadata": {}
        }
      ]
    },
    {
      "cell_type": "code",
      "source": [
        "def simple_net(xb): \n",
        "    res = xb@w1 + b1\n",
        "    res = res.max(tensor(0.0))\n",
        "    res = res@w2 + b2\n",
        "    return res"
      ],
      "metadata": {
        "id": "QiUMfjUx9qWT"
      },
      "execution_count": 185,
      "outputs": []
    },
    {
      "cell_type": "code",
      "source": [
        "w1 = init_params((28*28,30))\n",
        "b1 = init_params(30)\n",
        "w2 = init_params((30,1))\n",
        "b2 = init_params(1)"
      ],
      "metadata": {
        "id": "ncEC5XQ395Dj"
      },
      "execution_count": 186,
      "outputs": []
    },
    {
      "cell_type": "code",
      "source": [
        "simple_net = nn.Sequential(\n",
        "    nn.Linear(28*28,30),\n",
        "    nn.ReLU(),\n",
        "    nn.Linear(30,1)\n",
        ")"
      ],
      "metadata": {
        "id": "Li50Xl6P-AXB"
      },
      "execution_count": 187,
      "outputs": []
    },
    {
      "cell_type": "code",
      "source": [
        "learn = Learner(dls, simple_net, opt_func=SGD,\n",
        "                loss_func=mnist_loss, metrics=batch_accuracy)"
      ],
      "metadata": {
        "id": "AvD2z-vU_ZyJ"
      },
      "execution_count": 188,
      "outputs": []
    },
    {
      "cell_type": "code",
      "source": [
        "learn.fit(40, 0.1)"
      ],
      "metadata": {
        "colab": {
          "base_uri": "https://localhost:8080/",
          "height": 1000
        },
        "id": "vEfQFuu9_oV9",
        "outputId": "81093e28-23a4-472a-dd98-62dd904f57ea"
      },
      "execution_count": 189,
      "outputs": [
        {
          "output_type": "display_data",
          "data": {
            "text/plain": [
              "<IPython.core.display.HTML object>"
            ],
            "text/html": [
              "\n",
              "<style>\n",
              "    /* Turns off some styling */\n",
              "    progress {\n",
              "        /* gets rid of default border in Firefox and Opera. */\n",
              "        border: none;\n",
              "        /* Needs to be in here for Safari polyfill so background images work as expected. */\n",
              "        background-size: auto;\n",
              "    }\n",
              "    progress:not([value]), progress:not([value])::-webkit-progress-bar {\n",
              "        background: repeating-linear-gradient(45deg, #7e7e7e, #7e7e7e 10px, #5c5c5c 10px, #5c5c5c 20px);\n",
              "    }\n",
              "    .progress-bar-interrupted, .progress-bar-interrupted::-webkit-progress-bar {\n",
              "        background: #F44336;\n",
              "    }\n",
              "</style>\n"
            ]
          },
          "metadata": {}
        },
        {
          "output_type": "display_data",
          "data": {
            "text/plain": [
              "<IPython.core.display.HTML object>"
            ],
            "text/html": [
              "<table border=\"1\" class=\"dataframe\">\n",
              "  <thead>\n",
              "    <tr style=\"text-align: left;\">\n",
              "      <th>epoch</th>\n",
              "      <th>train_loss</th>\n",
              "      <th>valid_loss</th>\n",
              "      <th>batch_accuracy</th>\n",
              "      <th>time</th>\n",
              "    </tr>\n",
              "  </thead>\n",
              "  <tbody>\n",
              "    <tr>\n",
              "      <td>0</td>\n",
              "      <td>0.327098</td>\n",
              "      <td>0.412818</td>\n",
              "      <td>0.505888</td>\n",
              "      <td>00:00</td>\n",
              "    </tr>\n",
              "    <tr>\n",
              "      <td>1</td>\n",
              "      <td>0.151854</td>\n",
              "      <td>0.240211</td>\n",
              "      <td>0.791462</td>\n",
              "      <td>00:00</td>\n",
              "    </tr>\n",
              "    <tr>\n",
              "      <td>2</td>\n",
              "      <td>0.083889</td>\n",
              "      <td>0.119756</td>\n",
              "      <td>0.911678</td>\n",
              "      <td>00:00</td>\n",
              "    </tr>\n",
              "    <tr>\n",
              "      <td>3</td>\n",
              "      <td>0.054825</td>\n",
              "      <td>0.080089</td>\n",
              "      <td>0.939156</td>\n",
              "      <td>00:00</td>\n",
              "    </tr>\n",
              "    <tr>\n",
              "      <td>4</td>\n",
              "      <td>0.041339</td>\n",
              "      <td>0.062225</td>\n",
              "      <td>0.954367</td>\n",
              "      <td>00:00</td>\n",
              "    </tr>\n",
              "    <tr>\n",
              "      <td>5</td>\n",
              "      <td>0.034467</td>\n",
              "      <td>0.052265</td>\n",
              "      <td>0.962709</td>\n",
              "      <td>00:00</td>\n",
              "    </tr>\n",
              "    <tr>\n",
              "      <td>6</td>\n",
              "      <td>0.030537</td>\n",
              "      <td>0.045994</td>\n",
              "      <td>0.965653</td>\n",
              "      <td>00:01</td>\n",
              "    </tr>\n",
              "    <tr>\n",
              "      <td>7</td>\n",
              "      <td>0.027993</td>\n",
              "      <td>0.041715</td>\n",
              "      <td>0.966143</td>\n",
              "      <td>00:01</td>\n",
              "    </tr>\n",
              "    <tr>\n",
              "      <td>8</td>\n",
              "      <td>0.026164</td>\n",
              "      <td>0.038602</td>\n",
              "      <td>0.967615</td>\n",
              "      <td>00:01</td>\n",
              "    </tr>\n",
              "    <tr>\n",
              "      <td>9</td>\n",
              "      <td>0.024749</td>\n",
              "      <td>0.036225</td>\n",
              "      <td>0.970559</td>\n",
              "      <td>00:00</td>\n",
              "    </tr>\n",
              "    <tr>\n",
              "      <td>10</td>\n",
              "      <td>0.023601</td>\n",
              "      <td>0.034344</td>\n",
              "      <td>0.972031</td>\n",
              "      <td>00:00</td>\n",
              "    </tr>\n",
              "    <tr>\n",
              "      <td>11</td>\n",
              "      <td>0.022643</td>\n",
              "      <td>0.032810</td>\n",
              "      <td>0.972522</td>\n",
              "      <td>00:00</td>\n",
              "    </tr>\n",
              "    <tr>\n",
              "      <td>12</td>\n",
              "      <td>0.021827</td>\n",
              "      <td>0.031527</td>\n",
              "      <td>0.973994</td>\n",
              "      <td>00:00</td>\n",
              "    </tr>\n",
              "    <tr>\n",
              "      <td>13</td>\n",
              "      <td>0.021122</td>\n",
              "      <td>0.030430</td>\n",
              "      <td>0.974485</td>\n",
              "      <td>00:00</td>\n",
              "    </tr>\n",
              "    <tr>\n",
              "      <td>14</td>\n",
              "      <td>0.020505</td>\n",
              "      <td>0.029476</td>\n",
              "      <td>0.974975</td>\n",
              "      <td>00:00</td>\n",
              "    </tr>\n",
              "    <tr>\n",
              "      <td>15</td>\n",
              "      <td>0.019959</td>\n",
              "      <td>0.028636</td>\n",
              "      <td>0.975957</td>\n",
              "      <td>00:00</td>\n",
              "    </tr>\n",
              "    <tr>\n",
              "      <td>16</td>\n",
              "      <td>0.019471</td>\n",
              "      <td>0.027889</td>\n",
              "      <td>0.976448</td>\n",
              "      <td>00:00</td>\n",
              "    </tr>\n",
              "    <tr>\n",
              "      <td>17</td>\n",
              "      <td>0.019030</td>\n",
              "      <td>0.027219</td>\n",
              "      <td>0.976448</td>\n",
              "      <td>00:00</td>\n",
              "    </tr>\n",
              "    <tr>\n",
              "      <td>18</td>\n",
              "      <td>0.018630</td>\n",
              "      <td>0.026613</td>\n",
              "      <td>0.976938</td>\n",
              "      <td>00:00</td>\n",
              "    </tr>\n",
              "    <tr>\n",
              "      <td>19</td>\n",
              "      <td>0.018264</td>\n",
              "      <td>0.026063</td>\n",
              "      <td>0.976938</td>\n",
              "      <td>00:00</td>\n",
              "    </tr>\n",
              "    <tr>\n",
              "      <td>20</td>\n",
              "      <td>0.017927</td>\n",
              "      <td>0.025562</td>\n",
              "      <td>0.977429</td>\n",
              "      <td>00:00</td>\n",
              "    </tr>\n",
              "    <tr>\n",
              "      <td>21</td>\n",
              "      <td>0.017615</td>\n",
              "      <td>0.025103</td>\n",
              "      <td>0.977920</td>\n",
              "      <td>00:00</td>\n",
              "    </tr>\n",
              "    <tr>\n",
              "      <td>22</td>\n",
              "      <td>0.017326</td>\n",
              "      <td>0.024681</td>\n",
              "      <td>0.978410</td>\n",
              "      <td>00:00</td>\n",
              "    </tr>\n",
              "    <tr>\n",
              "      <td>23</td>\n",
              "      <td>0.017056</td>\n",
              "      <td>0.024292</td>\n",
              "      <td>0.980373</td>\n",
              "      <td>00:00</td>\n",
              "    </tr>\n",
              "    <tr>\n",
              "      <td>24</td>\n",
              "      <td>0.016803</td>\n",
              "      <td>0.023933</td>\n",
              "      <td>0.980864</td>\n",
              "      <td>00:01</td>\n",
              "    </tr>\n",
              "    <tr>\n",
              "      <td>25</td>\n",
              "      <td>0.016565</td>\n",
              "      <td>0.023600</td>\n",
              "      <td>0.980864</td>\n",
              "      <td>00:01</td>\n",
              "    </tr>\n",
              "    <tr>\n",
              "      <td>26</td>\n",
              "      <td>0.016341</td>\n",
              "      <td>0.023291</td>\n",
              "      <td>0.980864</td>\n",
              "      <td>00:01</td>\n",
              "    </tr>\n",
              "    <tr>\n",
              "      <td>27</td>\n",
              "      <td>0.016130</td>\n",
              "      <td>0.023004</td>\n",
              "      <td>0.981354</td>\n",
              "      <td>00:00</td>\n",
              "    </tr>\n",
              "    <tr>\n",
              "      <td>28</td>\n",
              "      <td>0.015929</td>\n",
              "      <td>0.022737</td>\n",
              "      <td>0.981845</td>\n",
              "      <td>00:01</td>\n",
              "    </tr>\n",
              "    <tr>\n",
              "      <td>29</td>\n",
              "      <td>0.015739</td>\n",
              "      <td>0.022488</td>\n",
              "      <td>0.981845</td>\n",
              "      <td>00:01</td>\n",
              "    </tr>\n",
              "    <tr>\n",
              "      <td>30</td>\n",
              "      <td>0.015558</td>\n",
              "      <td>0.022255</td>\n",
              "      <td>0.982336</td>\n",
              "      <td>00:00</td>\n",
              "    </tr>\n",
              "    <tr>\n",
              "      <td>31</td>\n",
              "      <td>0.015385</td>\n",
              "      <td>0.022037</td>\n",
              "      <td>0.982336</td>\n",
              "      <td>00:00</td>\n",
              "    </tr>\n",
              "    <tr>\n",
              "      <td>32</td>\n",
              "      <td>0.015221</td>\n",
              "      <td>0.021833</td>\n",
              "      <td>0.982336</td>\n",
              "      <td>00:01</td>\n",
              "    </tr>\n",
              "    <tr>\n",
              "      <td>33</td>\n",
              "      <td>0.015063</td>\n",
              "      <td>0.021642</td>\n",
              "      <td>0.982336</td>\n",
              "      <td>00:00</td>\n",
              "    </tr>\n",
              "    <tr>\n",
              "      <td>34</td>\n",
              "      <td>0.014912</td>\n",
              "      <td>0.021462</td>\n",
              "      <td>0.982336</td>\n",
              "      <td>00:00</td>\n",
              "    </tr>\n",
              "    <tr>\n",
              "      <td>35</td>\n",
              "      <td>0.014768</td>\n",
              "      <td>0.021292</td>\n",
              "      <td>0.982336</td>\n",
              "      <td>00:00</td>\n",
              "    </tr>\n",
              "    <tr>\n",
              "      <td>36</td>\n",
              "      <td>0.014629</td>\n",
              "      <td>0.021132</td>\n",
              "      <td>0.982826</td>\n",
              "      <td>00:00</td>\n",
              "    </tr>\n",
              "    <tr>\n",
              "      <td>37</td>\n",
              "      <td>0.014495</td>\n",
              "      <td>0.020981</td>\n",
              "      <td>0.982826</td>\n",
              "      <td>00:00</td>\n",
              "    </tr>\n",
              "    <tr>\n",
              "      <td>38</td>\n",
              "      <td>0.014367</td>\n",
              "      <td>0.020838</td>\n",
              "      <td>0.982826</td>\n",
              "      <td>00:00</td>\n",
              "    </tr>\n",
              "    <tr>\n",
              "      <td>39</td>\n",
              "      <td>0.014243</td>\n",
              "      <td>0.020702</td>\n",
              "      <td>0.982826</td>\n",
              "      <td>00:00</td>\n",
              "    </tr>\n",
              "  </tbody>\n",
              "</table>"
            ]
          },
          "metadata": {}
        }
      ]
    },
    {
      "cell_type": "code",
      "source": [
        "plt.plot(L(learn.recorder.values).itemgot(2));"
      ],
      "metadata": {
        "colab": {
          "base_uri": "https://localhost:8080/",
          "height": 271
        },
        "id": "koLpzhRm_p8S",
        "outputId": "a930342c-7dcd-4d62-b1cc-d7e239783a2e"
      },
      "execution_count": 190,
      "outputs": [
        {
          "output_type": "display_data",
          "data": {
            "text/plain": [
              "<Figure size 432x288 with 1 Axes>"
            ],
            "image/png": "[encoded data removed]"
          },
          "metadata": {
            "needs_background": "light"
          }
        }
      ]
    },
    {
      "cell_type": "code",
      "source": [
        "learn.recorder.values[-1][2]"
      ],
      "metadata": {
        "colab": {
          "base_uri": "https://localhost:8080/"
        },
        "id": "oLmrevEo_vpp",
        "outputId": "9455ce37-b246-4273-ec00-6651df4225be"
      },
      "execution_count": 191,
      "outputs": [
        {
          "output_type": "execute_result",
          "data": {
            "text/plain": [
              "0.982826292514801"
            ]
          },
          "metadata": {},
          "execution_count": 191
        }
      ]
    },
    {
      "cell_type": "markdown",
      "source": [
        "# Calculate the accuracy of our learning function"
      ],
      "metadata": {
        "id": "BcAe4SzoLAQ1"
      }
    },
    {
      "cell_type": "code",
      "source": [
        "#hide\n",
        "! [ -e /content ] && pip install -Uqq fastbook\n",
        "import fastbook\n",
        "fastbook.setup_book()\n",
        "from fastai.vision.all import *\n",
        "from fastbook import *\n",
        "matplotlib.rc('image', cmap='Greys')\n",
        "\n",
        "# Declare the path for MNIST\n",
        "path = untar_data(URLs.MNIST_SAMPLE)\n",
        "Path.BASE_PATH = path\n",
        "\n",
        "# Create a list of the path of every image\n",
        "threes = (path/'train'/'3').ls().sorted()\n",
        "sevens = (path/'train'/'7').ls().sorted()\n",
        "\n",
        "# Create a list of tensors for 3s and 7s (contains the \n",
        "# pixel value of each pixel of every image)\n",
        "seven_tensors = [tensor(Image.open(o)) for o in sevens]\n",
        "three_tensors = [tensor(Image.open(o)) for o in threes]\n",
        "\n",
        "# Stack all these tensors into one single tensor\n",
        "stacked_sevens = torch.stack(seven_tensors).float()/255\n",
        "stacked_threes = torch.stack(three_tensors).float()/255\n",
        "\n",
        "# Create the tensors for the validation 3s and 7s\n",
        "valid_3_tens = torch.stack([tensor(Image.open(o)) \n",
        "                            for o in (path/'valid'/'3').ls()])\n",
        "valid_3_tens = valid_3_tens.float()/255\n",
        "valid_7_tens = torch.stack([tensor(Image.open(o)) \n",
        "                            for o in (path/'valid'/'7').ls()])\n",
        "valid_7_tens = valid_7_tens.float()/255\n",
        "\n",
        "def mnist_distance(a,b): return (a-b).abs().mean((-1,-2))\n",
        "\n",
        "valid_3_dist = mnist_distance(valid_3_tens, mean3)\n",
        "\n",
        "def is_3(x): return mnist_distance(x,mean3) < mnist_distance(x,mean7)\n",
        "\n",
        "accuracy_3s =      is_3(valid_3_tens).float() .mean()\n",
        "accuracy_7s = (1 - is_3(valid_7_tens).float()).mean()"
      ],
      "metadata": {
        "id": "a0gfgJXL_xh8"
      },
      "execution_count": null,
      "outputs": []
    },
    {
      "cell_type": "markdown",
      "source": [
        "# SGD - Calculate the gradient"
      ],
      "metadata": {
        "id": "V_j5qF82KzfW"
      }
    },
    {
      "cell_type": "code",
      "source": [
        "# SGD\n",
        "\n",
        "#hide\n",
        "! [ -e /content ] && pip install -Uqq fastbook\n",
        "import fastbook\n",
        "fastbook.setup_book()\n",
        "from fastai.vision.all import *\n",
        "from fastbook import *\n",
        "matplotlib.rc('image', cmap='Greys')\n",
        "\n",
        "# Declare the path for MNIST\n",
        "path = untar_data(URLs.MNIST_SAMPLE)\n",
        "Path.BASE_PATH = path\n",
        "\n",
        "# Create a list of the path of every image\n",
        "threes = (path/'train'/'3').ls().sorted()\n",
        "sevens = (path/'train'/'7').ls().sorted()\n",
        "\n",
        "# Create a list of tensors for 3s and 7s (contains the \n",
        "# pixel value of each pixel of every image)\n",
        "seven_tensors = [tensor(Image.open(o)) for o in sevens]\n",
        "three_tensors = [tensor(Image.open(o)) for o in threes]\n",
        "\n",
        "# Stack all these tensors into one single tensor\n",
        "stacked_sevens = torch.stack(seven_tensors).float()/255\n",
        "stacked_threes = torch.stack(three_tensors).float()/255\n",
        "\n",
        "# Create the tensors for the validation 3s and 7s\n",
        "valid_3_tens = torch.stack([tensor(Image.open(o)) \n",
        "                            for o in (path/'valid'/'3').ls()])\n",
        "valid_3_tens = valid_3_tens.float()/255\n",
        "valid_7_tens = torch.stack([tensor(Image.open(o)) \n",
        "                            for o in (path/'valid'/'7').ls()])\n",
        "valid_7_tens = valid_7_tens.float()/255\n",
        "\n",
        "# Concatenates threes and sevens into train_x along with their y, and creates\n",
        "# a dataset\n",
        "train_x = torch.cat([stacked_threes, stacked_sevens]).view(-1, 28*28)\n",
        "# This creates a new tensor of one-dimensional y, of length 3s and 7s\n",
        "train_y = tensor([1]*len(threes) + [0]*len(sevens)).unsqueeze(1)\n",
        "dset = list(zip(train_x,train_y))\n",
        "\n",
        "# Concatenates the validations threes and sevens into train_x along with their y, \n",
        "# and creates a dataset\n",
        "valid_x = torch.cat([valid_3_tens, valid_7_tens]).view(-1, 28*28)\n",
        "valid_y = tensor([1]*len(valid_3_tens) + [0]*len(valid_7_tens)).unsqueeze(1)\n",
        "valid_dset = list(zip(valid_x,valid_y))\n",
        "\n",
        "\n",
        "# SGD in action\n",
        "# 1. Initialize the weights\n",
        "def init_params(size, std=1.0): return (torch.randn(size)*std).requires_grad_()\n",
        "weights = init_params((28*28,1))\n",
        "bias = init_params(1)\n",
        "\n",
        "# 2. Calculate the predictions\n",
        "def linear1(xb): return xb@weights + bias\n",
        "preds = linear1(train_x)\n",
        "\n",
        "# 3. Calculate the loss\n",
        "def mnist_loss(predictions, targets):\n",
        "    predictions = predictions.sigmoid()\n",
        "    return torch.where(targets==1, 1-predictions, predictions).mean()\n",
        "\n",
        "def sigmoid(x): return 1/(1+torch.exp(-x))\n",
        "\n",
        "# 4. Calculate the gradient\n",
        "\n",
        "# Define the batch size:\n",
        "# Dataloader takes the dataset and splits it into smaller datasets of the batch size\n",
        "# For example if it's a dataset of 1024 items, then it will create 4 lists of 256\n",
        "# items\n",
        "dl = DataLoader(dset, batch_size=256)\n",
        "xb,yb = first(dl)\n",
        "valid_dl = DataLoader(valid_dset, batch_size=256)\n",
        "\n",
        "batch = train_x[:4]\n",
        "preds = linear1(batch)\n",
        "loss = mnist_loss(preds, train_y[:4])\n",
        "loss.backward()\n"
      ],
      "metadata": {
        "id": "eFOR2oK-acNJ"
      },
      "execution_count": null,
      "outputs": []
    },
    {
      "cell_type": "markdown",
      "source": [
        "# SGD - Train for one epoch"
      ],
      "metadata": {
        "id": "UojscP_bKuJr"
      }
    },
    {
      "cell_type": "code",
      "source": [
        "# SGD\n",
        "\n",
        "#hide\n",
        "! [ -e /content ] && pip install -Uqq fastbook\n",
        "import fastbook\n",
        "fastbook.setup_book()\n",
        "from fastai.vision.all import *\n",
        "from fastbook import *\n",
        "matplotlib.rc('image', cmap='Greys')\n",
        "\n",
        "# Declare the path for MNIST\n",
        "path = untar_data(URLs.MNIST_SAMPLE)\n",
        "Path.BASE_PATH = path\n",
        "\n",
        "# Create a list of the path of every image\n",
        "threes = (path/'train'/'3').ls().sorted()\n",
        "sevens = (path/'train'/'7').ls().sorted()\n",
        "\n",
        "# Create a list of tensors for 3s and 7s (contains the \n",
        "# pixel value of each pixel of every image)\n",
        "seven_tensors = [tensor(Image.open(o)) for o in sevens]\n",
        "three_tensors = [tensor(Image.open(o)) for o in threes]\n",
        "\n",
        "# Stack all these tensors into one single tensor\n",
        "stacked_sevens = torch.stack(seven_tensors).float()/255\n",
        "stacked_threes = torch.stack(three_tensors).float()/255\n",
        "\n",
        "# Create the tensors for the validation 3s and 7s\n",
        "valid_3_tens = torch.stack([tensor(Image.open(o)) \n",
        "                            for o in (path/'valid'/'3').ls()])\n",
        "valid_3_tens = valid_3_tens.float()/255\n",
        "valid_7_tens = torch.stack([tensor(Image.open(o)) \n",
        "                            for o in (path/'valid'/'7').ls()])\n",
        "valid_7_tens = valid_7_tens.float()/255\n",
        "\n",
        "# Concatenates threes and sevens into train_x along with their y, and creates\n",
        "# a dataset\n",
        "train_x = torch.cat([stacked_threes, stacked_sevens]).view(-1, 28*28)\n",
        "# This creates a new tensor of one-dimensional y, of length 3s and 7s\n",
        "train_y = tensor([1]*len(threes) + [0]*len(sevens)).unsqueeze(1)\n",
        "dset = list(zip(train_x,train_y))\n",
        "\n",
        "# Concatenates the validations threes and sevens into train_x along with their y, \n",
        "# and creates a dataset\n",
        "valid_x = torch.cat([valid_3_tens, valid_7_tens]).view(-1, 28*28)\n",
        "valid_y = tensor([1]*len(valid_3_tens) + [0]*len(valid_7_tens)).unsqueeze(1)\n",
        "valid_dset = list(zip(valid_x,valid_y))\n",
        "\n",
        "\n",
        "# SGD in action\n",
        "# 1. Initialize the weights\n",
        "def init_params(size, std=1.0): return (torch.randn(size)*std).requires_grad_()\n",
        "weights = init_params((28*28,1))\n",
        "bias = init_params(1)\n",
        "\n",
        "# 2. Calculate the predictions\n",
        "def linear1(xb): return xb@weights + bias\n",
        "preds = linear1(train_x)\n",
        "\n",
        "# 3. Calculate the loss\n",
        "def mnist_loss(predictions, targets):\n",
        "    predictions = predictions.sigmoid()\n",
        "    return torch.where(targets==1, 1-predictions, predictions).mean()\n",
        "\n",
        "def sigmoid(x): return 1/(1+torch.exp(-x))\n",
        "\n",
        "# 4. Calculate the gradient\n",
        "dl = DataLoader(dset, batch_size=256)\n",
        "valid_dl = DataLoader(valid_dset, batch_size=256)\n",
        "\n",
        "def calc_grad(xb, yb, model):\n",
        "    preds = model(xb)\n",
        "    loss = mnist_loss(preds, yb)\n",
        "    loss.backward()\n",
        "\n",
        "weights.grad.zero_()\n",
        "bias.grad.zero_();\n",
        "\n",
        "# 5. Change the weights and biases based on the gradients (optimization step)\n",
        "# for an epoch\n",
        "def train_epoch(model, lr, params):\n",
        "    for xb,yb in dl:\n",
        "        calc_grad(xb, yb, model)\n",
        "        for p in params:\n",
        "            p.data -= p.grad*lr\n",
        "            p.grad.zero_()\n",
        "\n",
        "# Calculate the validation accuracy\n",
        "def batch_accuracy(xb, yb):\n",
        "    preds = xb.sigmoid()\n",
        "    correct = (preds>0.5) == yb\n",
        "    return correct.float().mean()\n",
        "\n",
        "# Put all the batches together\n",
        "def validate_epoch(model):\n",
        "    accs = [batch_accuracy(model(xb), yb) for xb,yb in valid_dl]\n",
        "    return round(torch.stack(accs).mean().item(), 4)\n",
        "\n",
        "# Train for one epoch\n",
        "lr = 1.\n",
        "params = weights,bias\n",
        "train_epoch(linear1, lr, params)\n",
        "validate_epoch(linear1)\n"
      ],
      "metadata": {
        "id": "OiNaroFCd9VK"
      },
      "execution_count": null,
      "outputs": []
    },
    {
      "cell_type": "markdown",
      "source": [
        "# SGD Train for all the epochs\n",
        "\n",
        "Added the `train_model` function"
      ],
      "metadata": {
        "id": "uYXL-FWFKhK6"
      }
    },
    {
      "cell_type": "code",
      "source": [
        "# SGD\n",
        "\n",
        "#hide\n",
        "! [ -e /content ] && pip install -Uqq fastbook\n",
        "import fastbook\n",
        "fastbook.setup_book()\n",
        "from fastai.vision.all import *\n",
        "from fastbook import *\n",
        "matplotlib.rc('image', cmap='Greys')\n",
        "\n",
        "# Declare the path for MNIST\n",
        "path = untar_data(URLs.MNIST_SAMPLE)\n",
        "Path.BASE_PATH = path\n",
        "\n",
        "# Create a list of the path of every image\n",
        "threes = (path/'train'/'3').ls().sorted()\n",
        "sevens = (path/'train'/'7').ls().sorted()\n",
        "\n",
        "# Create a list of tensors for 3s and 7s (contains the \n",
        "# pixel value of each pixel of every image)\n",
        "seven_tensors = [tensor(Image.open(o)) for o in sevens]\n",
        "three_tensors = [tensor(Image.open(o)) for o in threes]\n",
        "\n",
        "# Stack all these tensors into one single tensor\n",
        "stacked_sevens = torch.stack(seven_tensors).float()/255\n",
        "stacked_threes = torch.stack(three_tensors).float()/255\n",
        "\n",
        "# Create the tensors for the validation 3s and 7s\n",
        "valid_3_tens = torch.stack([tensor(Image.open(o)) \n",
        "                            for o in (path/'valid'/'3').ls()])\n",
        "valid_3_tens = valid_3_tens.float()/255\n",
        "valid_7_tens = torch.stack([tensor(Image.open(o)) \n",
        "                            for o in (path/'valid'/'7').ls()])\n",
        "valid_7_tens = valid_7_tens.float()/255\n",
        "\n",
        "# Concatenates threes and sevens into train_x along with their y, and creates\n",
        "# a dataset\n",
        "train_x = torch.cat([stacked_threes, stacked_sevens]).view(-1, 28*28)\n",
        "# This creates a new tensor of one-dimensional y, of length 3s and 7s\n",
        "train_y = tensor([1]*len(threes) + [0]*len(sevens)).unsqueeze(1)\n",
        "dset = list(zip(train_x,train_y))\n",
        "\n",
        "# Concatenates the validations threes and sevens into train_x along with their y, \n",
        "# and creates a dataset\n",
        "valid_x = torch.cat([valid_3_tens, valid_7_tens]).view(-1, 28*28)\n",
        "valid_y = tensor([1]*len(valid_3_tens) + [0]*len(valid_7_tens)).unsqueeze(1)\n",
        "valid_dset = list(zip(valid_x,valid_y))\n",
        "\n",
        "\n",
        "# SGD in action\n",
        "# 1. Initialize the weights\n",
        "linear_model = nn.Linear(28*28,1)\n",
        "w,b = linear_model.parameters()\n",
        "# Same as these two together:\n",
        "# def init_params(size, std=1.0): return (torch.randn(size)*std).requires_grad_()\n",
        "# def linear1(xb): return xb@weights + bias\n",
        "\n",
        "# 2. Calculate the predictions (in step)\n",
        "class BasicOptim:\n",
        "    def __init__(self,params,lr): self.params,self.lr = list(params),lr\n",
        "\n",
        "    def step(self, *args, **kwargs):\n",
        "        for p in self.params: p.data -= p.grad.data * self.lr\n",
        "\n",
        "    def zero_grad(self, *args, **kwargs):\n",
        "        for p in self.params: p.grad = None\n",
        "\n",
        "opt = BasicOptim(linear_model.parameters(), lr)\n",
        "\n",
        "# 3. Calculate the loss\n",
        "def mnist_loss(predictions, targets):\n",
        "    predictions = predictions.sigmoid()\n",
        "    return torch.where(targets==1, 1-predictions, predictions).mean()\n",
        "\n",
        "def sigmoid(x): return 1/(1+torch.exp(-x))\n",
        "\n",
        "# 4. Calculate the gradient\n",
        "dl = DataLoader(dset, batch_size=256)\n",
        "valid_dl = DataLoader(valid_dset, batch_size=256)\n",
        "\n",
        "def calc_grad(xb, yb, model):\n",
        "    preds = model(xb)\n",
        "    loss = mnist_loss(preds, yb)\n",
        "    loss.backward()\n",
        "\n",
        "\n",
        "# 5. Change the weights and biases based on the gradients (optimization step)\n",
        "# for an epoch (changed the function to use the BasicOptim class)\n",
        "def train_epoch(model):\n",
        "    for xb,yb in dl:\n",
        "        calc_grad(xb, yb, model)\n",
        "        opt.step()\n",
        "        opt.zero_grad()\n",
        "\n",
        "# Calculate the validation accuracy\n",
        "def batch_accuracy(xb, yb):\n",
        "    preds = xb.sigmoid()\n",
        "    correct = (preds>0.5) == yb\n",
        "    return correct.float().mean()\n",
        "\n",
        "# Put all the batches together\n",
        "def validate_epoch(model):\n",
        "    accs = [batch_accuracy(model(xb), yb) for xb,yb in valid_dl]\n",
        "    return round(torch.stack(accs).mean().item(), 4)\n",
        "\n",
        "# 6. Repeat the process for all the epochs:\n",
        "def train_model(model, epochs):\n",
        "    for i in range(epochs):\n",
        "        train_epoch(model)\n",
        "        print(validate_epoch(model), end=' ')\n",
        "\n",
        "train_model(linear_model, 20)"
      ],
      "metadata": {
        "id": "OGV2O0q2jH2t"
      },
      "execution_count": null,
      "outputs": []
    },
    {
      "cell_type": "markdown",
      "source": [
        "# Use fastai's learner\n",
        "\n",
        "Learner replaces `train_model`, `validate_epoch`, `train_epoch` and `calc_grad`:\n",
        "\n",
        "\n",
        "```\n",
        "learn = Learner(dls, nn.Linear(28*28,1), opt_func=SGD,\n",
        "                loss_func=mnist_loss, metrics=batch_accuracy)\n",
        "learn.fit(10, lr=lr)\n",
        "```"
      ],
      "metadata": {
        "id": "4mwk52lzKK2P"
      }
    },
    {
      "cell_type": "code",
      "source": [
        "# SGD\n",
        "# Instead of the BasicOptim class, use fastai's SGD\n",
        "\n",
        "#hide\n",
        "! [ -e /content ] && pip install -Uqq fastbook\n",
        "import fastbook\n",
        "fastbook.setup_book()\n",
        "from fastai.vision.all import *\n",
        "from fastbook import *\n",
        "matplotlib.rc('image', cmap='Greys')\n",
        "\n",
        "# Declare the path for MNIST\n",
        "path = untar_data(URLs.MNIST_SAMPLE)\n",
        "Path.BASE_PATH = path\n",
        "\n",
        "# Create a list of the path of every image\n",
        "threes = (path/'train'/'3').ls().sorted()\n",
        "sevens = (path/'train'/'7').ls().sorted()\n",
        "\n",
        "# Create a list of tensors for 3s and 7s (contains the \n",
        "# pixel value of each pixel of every image)\n",
        "seven_tensors = [tensor(Image.open(o)) for o in sevens]\n",
        "three_tensors = [tensor(Image.open(o)) for o in threes]\n",
        "\n",
        "# Stack all these tensors into one single tensor\n",
        "stacked_sevens = torch.stack(seven_tensors).float()/255\n",
        "stacked_threes = torch.stack(three_tensors).float()/255\n",
        "\n",
        "# Create the tensors for the validation 3s and 7s\n",
        "valid_3_tens = torch.stack([tensor(Image.open(o)) \n",
        "                            for o in (path/'valid'/'3').ls()])\n",
        "valid_3_tens = valid_3_tens.float()/255\n",
        "valid_7_tens = torch.stack([tensor(Image.open(o)) \n",
        "                            for o in (path/'valid'/'7').ls()])\n",
        "valid_7_tens = valid_7_tens.float()/255\n",
        "\n",
        "# Concatenates threes and sevens into train_x along with their y, and creates\n",
        "# a dataset\n",
        "train_x = torch.cat([stacked_threes, stacked_sevens]).view(-1, 28*28)\n",
        "# This creates a new tensor of one-dimensional y, of length 3s and 7s\n",
        "train_y = tensor([1]*len(threes) + [0]*len(sevens)).unsqueeze(1)\n",
        "dset = list(zip(train_x,train_y))\n",
        "\n",
        "# Concatenates the validations threes and sevens into train_x along with their y, \n",
        "# and creates a dataset\n",
        "valid_x = torch.cat([valid_3_tens, valid_7_tens]).view(-1, 28*28)\n",
        "valid_y = tensor([1]*len(valid_3_tens) + [0]*len(valid_7_tens)).unsqueeze(1)\n",
        "valid_dset = list(zip(valid_x,valid_y))\n",
        "\n",
        "\n",
        "# SGD in action\n",
        "# 1. Initialize the weights\n",
        "linear_model = nn.Linear(28*28,1)\n",
        "w,b = linear_model.parameters()\n",
        "dl = DataLoader(dset, batch_size=256)\n",
        "valid_dl = DataLoader(valid_dset, batch_size=256)\n",
        "dls = DataLoaders(dl, valid_dl)\n",
        "# linear_model replaces init_params and linear1 \n",
        "\n",
        "# 2. Calculate the predictions (in step)\n",
        "\n",
        "# It replaces BasicOptim\n",
        "opt = SGD(linear_model.parameters(), lr)\n",
        "\n",
        "# 3. Calculate the loss\n",
        "def mnist_loss(predictions, targets):\n",
        "    predictions = predictions.sigmoid()\n",
        "    return torch.where(targets==1, 1-predictions, predictions).mean()\n",
        "\n",
        "def sigmoid(x): return 1/(1+torch.exp(-x))\n",
        "\n",
        "# Calculate the validation accuracy\n",
        "def batch_accuracy(xb, yb):\n",
        "    preds = xb.sigmoid()\n",
        "    correct = (preds>0.5) == yb\n",
        "    return correct.float().mean()\n",
        "\n",
        "# 4. Calculate the gradient\n",
        "# 5. Change the weights and biases based on the gradients (optimization step)\n",
        "# 6. Repeat the process for all the epochs\n",
        "# 7. Iterate until it's good enough\n",
        "# Learner replaces train_model, validate_epoch, train_epoch and calc_grad\n",
        "learn = Learner(dls, nn.Linear(28*28,1), opt_func=SGD,\n",
        "                loss_func=mnist_loss, metrics=batch_accuracy)\n",
        "learn.fit(10, lr=lr)\n"
      ],
      "metadata": {
        "colab": {
          "base_uri": "https://localhost:8080/",
          "height": 1000
        },
        "id": "zLJOFVohj4Of",
        "outputId": "ce94b243-fc7b-4be3-c022-0131192ad5ec"
      },
      "execution_count": 202,
      "outputs": [
        {
          "output_type": "stream",
          "name": "stdout",
          "text": [
            "0.4932 0.8217 0.8486 0.914 0.934 0.9492 0.956 0.9623 0.9657 0.9672 0.9696 0.9711 0.9736 0.975 0.976 0.977 0.9775 0.9779 0.9784 0.9784 "
          ]
        },
        {
          "output_type": "display_data",
          "data": {
            "text/plain": [
              "<IPython.core.display.HTML object>"
            ],
            "text/html": [
              "\n",
              "<style>\n",
              "    /* Turns off some styling */\n",
              "    progress {\n",
              "        /* gets rid of default border in Firefox and Opera. */\n",
              "        border: none;\n",
              "        /* Needs to be in here for Safari polyfill so background images work as expected. */\n",
              "        background-size: auto;\n",
              "    }\n",
              "    progress:not([value]), progress:not([value])::-webkit-progress-bar {\n",
              "        background: repeating-linear-gradient(45deg, #7e7e7e, #7e7e7e 10px, #5c5c5c 10px, #5c5c5c 20px);\n",
              "    }\n",
              "    .progress-bar-interrupted, .progress-bar-interrupted::-webkit-progress-bar {\n",
              "        background: #F44336;\n",
              "    }\n",
              "</style>\n"
            ]
          },
          "metadata": {}
        },
        {
          "output_type": "display_data",
          "data": {
            "text/plain": [
              "<IPython.core.display.HTML object>"
            ],
            "text/html": [
              "<table border=\"1\" class=\"dataframe\">\n",
              "  <thead>\n",
              "    <tr style=\"text-align: left;\">\n",
              "      <th>epoch</th>\n",
              "      <th>train_loss</th>\n",
              "      <th>valid_loss</th>\n",
              "      <th>batch_accuracy</th>\n",
              "      <th>time</th>\n",
              "    </tr>\n",
              "  </thead>\n",
              "  <tbody>\n",
              "    <tr>\n",
              "      <td>0</td>\n",
              "      <td>0.637292</td>\n",
              "      <td>0.503774</td>\n",
              "      <td>0.495584</td>\n",
              "      <td>00:00</td>\n",
              "    </tr>\n",
              "    <tr>\n",
              "      <td>1</td>\n",
              "      <td>0.631573</td>\n",
              "      <td>0.498075</td>\n",
              "      <td>0.495584</td>\n",
              "      <td>00:00</td>\n",
              "    </tr>\n",
              "    <tr>\n",
              "      <td>2</td>\n",
              "      <td>0.280626</td>\n",
              "      <td>0.327948</td>\n",
              "      <td>0.662414</td>\n",
              "      <td>00:00</td>\n",
              "    </tr>\n",
              "    <tr>\n",
              "      <td>3</td>\n",
              "      <td>0.117879</td>\n",
              "      <td>0.152354</td>\n",
              "      <td>0.866045</td>\n",
              "      <td>00:00</td>\n",
              "    </tr>\n",
              "    <tr>\n",
              "      <td>4</td>\n",
              "      <td>0.057660</td>\n",
              "      <td>0.096678</td>\n",
              "      <td>0.918548</td>\n",
              "      <td>00:00</td>\n",
              "    </tr>\n",
              "    <tr>\n",
              "      <td>5</td>\n",
              "      <td>0.034451</td>\n",
              "      <td>0.072876</td>\n",
              "      <td>0.936703</td>\n",
              "      <td>00:00</td>\n",
              "    </tr>\n",
              "    <tr>\n",
              "      <td>6</td>\n",
              "      <td>0.025024</td>\n",
              "      <td>0.059452</td>\n",
              "      <td>0.950932</td>\n",
              "      <td>00:00</td>\n",
              "    </tr>\n",
              "    <tr>\n",
              "      <td>7</td>\n",
              "      <td>0.020961</td>\n",
              "      <td>0.050876</td>\n",
              "      <td>0.958292</td>\n",
              "      <td>00:00</td>\n",
              "    </tr>\n",
              "    <tr>\n",
              "      <td>8</td>\n",
              "      <td>0.019026</td>\n",
              "      <td>0.045061</td>\n",
              "      <td>0.964181</td>\n",
              "      <td>00:00</td>\n",
              "    </tr>\n",
              "    <tr>\n",
              "      <td>9</td>\n",
              "      <td>0.017956</td>\n",
              "      <td>0.040918</td>\n",
              "      <td>0.966143</td>\n",
              "      <td>00:00</td>\n",
              "    </tr>\n",
              "  </tbody>\n",
              "</table>"
            ]
          },
          "metadata": {}
        },
        {
          "output_type": "display_data",
          "data": {
            "text/plain": [
              "<IPython.core.display.HTML object>"
            ],
            "text/html": [
              "\n",
              "<style>\n",
              "    /* Turns off some styling */\n",
              "    progress {\n",
              "        /* gets rid of default border in Firefox and Opera. */\n",
              "        border: none;\n",
              "        /* Needs to be in here for Safari polyfill so background images work as expected. */\n",
              "        background-size: auto;\n",
              "    }\n",
              "    progress:not([value]), progress:not([value])::-webkit-progress-bar {\n",
              "        background: repeating-linear-gradient(45deg, #7e7e7e, #7e7e7e 10px, #5c5c5c 10px, #5c5c5c 20px);\n",
              "    }\n",
              "    .progress-bar-interrupted, .progress-bar-interrupted::-webkit-progress-bar {\n",
              "        background: #F44336;\n",
              "    }\n",
              "</style>\n"
            ]
          },
          "metadata": {}
        },
        {
          "output_type": "display_data",
          "data": {
            "text/plain": [
              "<IPython.core.display.HTML object>"
            ],
            "text/html": [
              "<table border=\"1\" class=\"dataframe\">\n",
              "  <thead>\n",
              "    <tr style=\"text-align: left;\">\n",
              "      <th>epoch</th>\n",
              "      <th>train_loss</th>\n",
              "      <th>valid_loss</th>\n",
              "      <th>batch_accuracy</th>\n",
              "      <th>time</th>\n",
              "    </tr>\n",
              "  </thead>\n",
              "  <tbody>\n",
              "    <tr>\n",
              "      <td>0</td>\n",
              "      <td>0.349574</td>\n",
              "      <td>0.404705</td>\n",
              "      <td>0.504907</td>\n",
              "      <td>00:00</td>\n",
              "    </tr>\n",
              "    <tr>\n",
              "      <td>1</td>\n",
              "      <td>0.157821</td>\n",
              "      <td>0.241263</td>\n",
              "      <td>0.791953</td>\n",
              "      <td>00:00</td>\n",
              "    </tr>\n",
              "    <tr>\n",
              "      <td>2</td>\n",
              "      <td>0.085552</td>\n",
              "      <td>0.118479</td>\n",
              "      <td>0.913150</td>\n",
              "      <td>00:00</td>\n",
              "    </tr>\n",
              "    <tr>\n",
              "      <td>3</td>\n",
              "      <td>0.055210</td>\n",
              "      <td>0.079282</td>\n",
              "      <td>0.941119</td>\n",
              "      <td>00:00</td>\n",
              "    </tr>\n",
              "    <tr>\n",
              "      <td>4</td>\n",
              "      <td>0.041363</td>\n",
              "      <td>0.061773</td>\n",
              "      <td>0.953876</td>\n",
              "      <td>00:00</td>\n",
              "    </tr>\n",
              "    <tr>\n",
              "      <td>5</td>\n",
              "      <td>0.034407</td>\n",
              "      <td>0.051970</td>\n",
              "      <td>0.963199</td>\n",
              "      <td>00:00</td>\n",
              "    </tr>\n",
              "    <tr>\n",
              "      <td>6</td>\n",
              "      <td>0.030470</td>\n",
              "      <td>0.045816</td>\n",
              "      <td>0.965162</td>\n",
              "      <td>00:00</td>\n",
              "    </tr>\n",
              "    <tr>\n",
              "      <td>7</td>\n",
              "      <td>0.027941</td>\n",
              "      <td>0.041622</td>\n",
              "      <td>0.966143</td>\n",
              "      <td>00:00</td>\n",
              "    </tr>\n",
              "    <tr>\n",
              "      <td>8</td>\n",
              "      <td>0.026130</td>\n",
              "      <td>0.038575</td>\n",
              "      <td>0.968597</td>\n",
              "      <td>00:00</td>\n",
              "    </tr>\n",
              "    <tr>\n",
              "      <td>9</td>\n",
              "      <td>0.024732</td>\n",
              "      <td>0.036249</td>\n",
              "      <td>0.969578</td>\n",
              "      <td>00:00</td>\n",
              "    </tr>\n",
              "    <tr>\n",
              "      <td>10</td>\n",
              "      <td>0.023599</td>\n",
              "      <td>0.034405</td>\n",
              "      <td>0.971050</td>\n",
              "      <td>00:00</td>\n",
              "    </tr>\n",
              "    <tr>\n",
              "      <td>11</td>\n",
              "      <td>0.022654</td>\n",
              "      <td>0.032895</td>\n",
              "      <td>0.972522</td>\n",
              "      <td>00:00</td>\n",
              "    </tr>\n",
              "    <tr>\n",
              "      <td>12</td>\n",
              "      <td>0.021849</td>\n",
              "      <td>0.031626</td>\n",
              "      <td>0.972522</td>\n",
              "      <td>00:00</td>\n",
              "    </tr>\n",
              "    <tr>\n",
              "      <td>13</td>\n",
              "      <td>0.021154</td>\n",
              "      <td>0.030536</td>\n",
              "      <td>0.973994</td>\n",
              "      <td>00:00</td>\n",
              "    </tr>\n",
              "    <tr>\n",
              "      <td>14</td>\n",
              "      <td>0.020545</td>\n",
              "      <td>0.029585</td>\n",
              "      <td>0.974975</td>\n",
              "      <td>00:00</td>\n",
              "    </tr>\n",
              "    <tr>\n",
              "      <td>15</td>\n",
              "      <td>0.020006</td>\n",
              "      <td>0.028744</td>\n",
              "      <td>0.976448</td>\n",
              "      <td>00:01</td>\n",
              "    </tr>\n",
              "    <tr>\n",
              "      <td>16</td>\n",
              "      <td>0.019524</td>\n",
              "      <td>0.027994</td>\n",
              "      <td>0.976938</td>\n",
              "      <td>00:01</td>\n",
              "    </tr>\n",
              "    <tr>\n",
              "      <td>17</td>\n",
              "      <td>0.019089</td>\n",
              "      <td>0.027321</td>\n",
              "      <td>0.977429</td>\n",
              "      <td>00:01</td>\n",
              "    </tr>\n",
              "    <tr>\n",
              "      <td>18</td>\n",
              "      <td>0.018695</td>\n",
              "      <td>0.026713</td>\n",
              "      <td>0.977920</td>\n",
              "      <td>00:00</td>\n",
              "    </tr>\n",
              "    <tr>\n",
              "      <td>19</td>\n",
              "      <td>0.018333</td>\n",
              "      <td>0.026160</td>\n",
              "      <td>0.978410</td>\n",
              "      <td>00:01</td>\n",
              "    </tr>\n",
              "    <tr>\n",
              "      <td>20</td>\n",
              "      <td>0.018001</td>\n",
              "      <td>0.025655</td>\n",
              "      <td>0.978410</td>\n",
              "      <td>00:00</td>\n",
              "    </tr>\n",
              "    <tr>\n",
              "      <td>21</td>\n",
              "      <td>0.017694</td>\n",
              "      <td>0.025192</td>\n",
              "      <td>0.978901</td>\n",
              "      <td>00:00</td>\n",
              "    </tr>\n",
              "    <tr>\n",
              "      <td>22</td>\n",
              "      <td>0.017409</td>\n",
              "      <td>0.024765</td>\n",
              "      <td>0.979392</td>\n",
              "      <td>00:00</td>\n",
              "    </tr>\n",
              "    <tr>\n",
              "      <td>23</td>\n",
              "      <td>0.017142</td>\n",
              "      <td>0.024372</td>\n",
              "      <td>0.979882</td>\n",
              "      <td>00:00</td>\n",
              "    </tr>\n",
              "    <tr>\n",
              "      <td>24</td>\n",
              "      <td>0.016892</td>\n",
              "      <td>0.024007</td>\n",
              "      <td>0.980373</td>\n",
              "      <td>00:00</td>\n",
              "    </tr>\n",
              "    <tr>\n",
              "      <td>25</td>\n",
              "      <td>0.016658</td>\n",
              "      <td>0.023668</td>\n",
              "      <td>0.980864</td>\n",
              "      <td>00:00</td>\n",
              "    </tr>\n",
              "    <tr>\n",
              "      <td>26</td>\n",
              "      <td>0.016436</td>\n",
              "      <td>0.023353</td>\n",
              "      <td>0.981845</td>\n",
              "      <td>00:00</td>\n",
              "    </tr>\n",
              "    <tr>\n",
              "      <td>27</td>\n",
              "      <td>0.016227</td>\n",
              "      <td>0.023058</td>\n",
              "      <td>0.981845</td>\n",
              "      <td>00:00</td>\n",
              "    </tr>\n",
              "    <tr>\n",
              "      <td>28</td>\n",
              "      <td>0.016028</td>\n",
              "      <td>0.022783</td>\n",
              "      <td>0.981845</td>\n",
              "      <td>00:00</td>\n",
              "    </tr>\n",
              "    <tr>\n",
              "      <td>29</td>\n",
              "      <td>0.015840</td>\n",
              "      <td>0.022527</td>\n",
              "      <td>0.981845</td>\n",
              "      <td>00:00</td>\n",
              "    </tr>\n",
              "    <tr>\n",
              "      <td>30</td>\n",
              "      <td>0.015660</td>\n",
              "      <td>0.022286</td>\n",
              "      <td>0.982336</td>\n",
              "      <td>00:00</td>\n",
              "    </tr>\n",
              "    <tr>\n",
              "      <td>31</td>\n",
              "      <td>0.015489</td>\n",
              "      <td>0.022061</td>\n",
              "      <td>0.982336</td>\n",
              "      <td>00:00</td>\n",
              "    </tr>\n",
              "    <tr>\n",
              "      <td>32</td>\n",
              "      <td>0.015326</td>\n",
              "      <td>0.021850</td>\n",
              "      <td>0.982826</td>\n",
              "      <td>00:00</td>\n",
              "    </tr>\n",
              "    <tr>\n",
              "      <td>33</td>\n",
              "      <td>0.015169</td>\n",
              "      <td>0.021651</td>\n",
              "      <td>0.982826</td>\n",
              "      <td>00:00</td>\n",
              "    </tr>\n",
              "    <tr>\n",
              "      <td>34</td>\n",
              "      <td>0.015020</td>\n",
              "      <td>0.021464</td>\n",
              "      <td>0.982826</td>\n",
              "      <td>00:00</td>\n",
              "    </tr>\n",
              "    <tr>\n",
              "      <td>35</td>\n",
              "      <td>0.014876</td>\n",
              "      <td>0.021288</td>\n",
              "      <td>0.983317</td>\n",
              "      <td>00:00</td>\n",
              "    </tr>\n",
              "    <tr>\n",
              "      <td>36</td>\n",
              "      <td>0.014739</td>\n",
              "      <td>0.021122</td>\n",
              "      <td>0.983317</td>\n",
              "      <td>00:00</td>\n",
              "    </tr>\n",
              "    <tr>\n",
              "      <td>37</td>\n",
              "      <td>0.014606</td>\n",
              "      <td>0.020964</td>\n",
              "      <td>0.983317</td>\n",
              "      <td>00:00</td>\n",
              "    </tr>\n",
              "    <tr>\n",
              "      <td>38</td>\n",
              "      <td>0.014478</td>\n",
              "      <td>0.020816</td>\n",
              "      <td>0.982826</td>\n",
              "      <td>00:00</td>\n",
              "    </tr>\n",
              "    <tr>\n",
              "      <td>39</td>\n",
              "      <td>0.014354</td>\n",
              "      <td>0.020674</td>\n",
              "      <td>0.982826</td>\n",
              "      <td>00:00</td>\n",
              "    </tr>\n",
              "  </tbody>\n",
              "</table>"
            ]
          },
          "metadata": {}
        },
        {
          "output_type": "execute_result",
          "data": {
            "text/plain": [
              "0.982826292514801"
            ]
          },
          "metadata": {},
          "execution_count": 202
        },
        {
          "output_type": "display_data",
          "data": {
            "text/plain": [
              "<Figure size 432x288 with 1 Axes>"
            ],
            "image/png": "[encoded data removed]"
          },
          "metadata": {
            "needs_background": "light"
          }
        }
      ]
    },
    {
      "cell_type": "markdown",
      "source": [
        "# Add non-linearity\n",
        "\n",
        "Use `nn.Sequential` to replace:\n",
        "\n",
        "\n",
        "```\n",
        "def simple_net(xb): \n",
        "    res = xb@w1 + b1\n",
        "    res = res.max(tensor(0.0))\n",
        "    res = res@w2 + b2\n",
        "    return res\n",
        "\n",
        "w1 = init_params((28*28,30))\n",
        "b1 = init_params(30)\n",
        "w2 = init_params((30,1))\n",
        "b2 = init_params(1)\n",
        "```\n",
        "\n"
      ],
      "metadata": {
        "id": "qngvAxcXJmED"
      }
    },
    {
      "cell_type": "code",
      "source": [
        "# SGD\n",
        "# Add non-linearity\n",
        "\n",
        "#hide\n",
        "! [ -e /content ] && pip install -Uqq fastbook\n",
        "import fastbook\n",
        "fastbook.setup_book()\n",
        "from fastai.vision.all import *\n",
        "from fastbook import *\n",
        "matplotlib.rc('image', cmap='Greys')\n",
        "\n",
        "# Declare the path for MNIST\n",
        "path = untar_data(URLs.MNIST_SAMPLE)\n",
        "Path.BASE_PATH = path\n",
        "\n",
        "# Create a list of the path of every image\n",
        "threes = (path/'train'/'3').ls().sorted()\n",
        "sevens = (path/'train'/'7').ls().sorted()\n",
        "\n",
        "# Create a list of tensors for 3s and 7s (contains the \n",
        "# pixel value of each pixel of every image)\n",
        "seven_tensors = [tensor(Image.open(o)) for o in sevens]\n",
        "three_tensors = [tensor(Image.open(o)) for o in threes]\n",
        "\n",
        "# Stack all these tensors into one single tensor\n",
        "stacked_sevens = torch.stack(seven_tensors).float()/255\n",
        "stacked_threes = torch.stack(three_tensors).float()/255\n",
        "\n",
        "# Create the tensors for the validation 3s and 7s\n",
        "valid_3_tens = torch.stack([tensor(Image.open(o)) \n",
        "                            for o in (path/'valid'/'3').ls()])\n",
        "valid_3_tens = valid_3_tens.float()/255\n",
        "valid_7_tens = torch.stack([tensor(Image.open(o)) \n",
        "                            for o in (path/'valid'/'7').ls()])\n",
        "valid_7_tens = valid_7_tens.float()/255\n",
        "\n",
        "# Concatenates threes and sevens into train_x along with their y, and creates\n",
        "# a dataset\n",
        "train_x = torch.cat([stacked_threes, stacked_sevens]).view(-1, 28*28)\n",
        "# This creates a new tensor of one-dimensional y, of length 3s and 7s\n",
        "train_y = tensor([1]*len(threes) + [0]*len(sevens)).unsqueeze(1)\n",
        "dset = list(zip(train_x,train_y))\n",
        "\n",
        "# Concatenates the validations threes and sevens into train_x along with their y, \n",
        "# and creates a dataset\n",
        "valid_x = torch.cat([valid_3_tens, valid_7_tens]).view(-1, 28*28)\n",
        "valid_y = tensor([1]*len(valid_3_tens) + [0]*len(valid_7_tens)).unsqueeze(1)\n",
        "valid_dset = list(zip(valid_x,valid_y))\n",
        "\n",
        "\n",
        "# SGD in action\n",
        "# 1. Initialize the weights\n",
        "linear_model = nn.Linear(28*28,1)\n",
        "w,b = linear_model.parameters()\n",
        "dl = DataLoader(dset, batch_size=256)\n",
        "valid_dl = DataLoader(valid_dset, batch_size=256)\n",
        "dls = DataLoaders(dl, valid_dl)\n",
        "# linear_model replaces init_params and linear1 \n",
        "\n",
        "# 2. Calculate the predictions (in step)\n",
        "\n",
        "# It replaces BasicOptim\n",
        "opt = SGD(linear_model.parameters(), lr)\n",
        "\n",
        "# 3. Calculate the loss\n",
        "def mnist_loss(predictions, targets):\n",
        "    predictions = predictions.sigmoid()\n",
        "    return torch.where(targets==1, 1-predictions, predictions).mean()\n",
        "\n",
        "def sigmoid(x): return 1/(1+torch.exp(-x))\n",
        "\n",
        "# Calculate the validation accuracy\n",
        "def batch_accuracy(xb, yb):\n",
        "    preds = xb.sigmoid()\n",
        "    correct = (preds>0.5) == yb\n",
        "    return correct.float().mean()\n",
        "\n",
        "# 4. Calculate the gradient\n",
        "# 5. Change the weights and biases based on the gradients (optimization step)\n",
        "# 6. Repeat the process for all the epochs\n",
        "# 7. Iterate until it's good enough\n",
        "# Learner replaces train_model, validate_epoch, train_epoch and calc_grad\n",
        "\n",
        "# nn.Sequential replaces:\n",
        "# def simple_net(xb): \n",
        "#     res = xb@w1 + b1\n",
        "#     res = res.max(tensor(0.0))\n",
        "#     res = res@w2 + b2\n",
        "#     return res\n",
        "\n",
        "# w1 = init_params((28*28,30))\n",
        "# b1 = init_params(30)\n",
        "# w2 = init_params((30,1))\n",
        "# b2 = init_params(1)\n",
        "simple_net = nn.Sequential(\n",
        "    nn.Linear(28*28,30),\n",
        "    nn.ReLU(),\n",
        "    nn.Linear(30,1)\n",
        ")\n",
        "learn = Learner(dls, simple_net, opt_func=SGD,\n",
        "                loss_func=mnist_loss, metrics=batch_accuracy)\n",
        "learn.fit(40, 0.1)\n",
        "plt.plot(L(learn.recorder.values).itemgot(2));\n",
        "learn.recorder.values[-1][2]"
      ],
      "metadata": {
        "id": "HVOapPy2mI7a"
      },
      "execution_count": null,
      "outputs": []
    }
  ]
}